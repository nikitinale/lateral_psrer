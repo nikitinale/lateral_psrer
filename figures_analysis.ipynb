{
 "cells": [
  {
   "cell_type": "code",
   "execution_count": 490,
   "metadata": {},
   "outputs": [],
   "source": [
    "import numpy as np\n",
    "import pandas as pd\n",
    "import seaborn as sns\n",
    "from matplotlib import pyplot as plt"
   ]
  },
  {
   "cell_type": "code",
   "execution_count": 491,
   "metadata": {},
   "outputs": [
    {
     "name": "stdout",
     "output_type": "stream",
     "text": [
      "6\r\n"
     ]
    }
   ],
   "source": [
    "! python3 model.py 6 1000"
   ]
  },
  {
   "cell_type": "code",
   "execution_count": 492,
   "metadata": {},
   "outputs": [
    {
     "data": {
      "text/html": [
       "<div>\n",
       "<style scoped>\n",
       "    .dataframe tbody tr th:only-of-type {\n",
       "        vertical-align: middle;\n",
       "    }\n",
       "\n",
       "    .dataframe tbody tr th {\n",
       "        vertical-align: top;\n",
       "    }\n",
       "\n",
       "    .dataframe thead th {\n",
       "        text-align: right;\n",
       "    }\n",
       "</style>\n",
       "<table border=\"1\" class=\"dataframe\">\n",
       "  <thead>\n",
       "    <tr style=\"text-align: right;\">\n",
       "      <th></th>\n",
       "      <th>solid_sediment_kg</th>\n",
       "      <th>solid_cs137_Bq</th>\n",
       "      <th>liquid_cs137_bq</th>\n",
       "      <th>solid_am241_bq</th>\n",
       "      <th>cs137_total</th>\n",
       "      <th>cs137_liquid_share</th>\n",
       "      <th>SA_sed</th>\n",
       "    </tr>\n",
       "    <tr>\n",
       "      <th>iteration</th>\n",
       "      <th></th>\n",
       "      <th></th>\n",
       "      <th></th>\n",
       "      <th></th>\n",
       "      <th></th>\n",
       "      <th></th>\n",
       "      <th></th>\n",
       "    </tr>\n",
       "  </thead>\n",
       "  <tbody>\n",
       "    <tr>\n",
       "      <th>5</th>\n",
       "      <td>2392.0</td>\n",
       "      <td>329000000.0</td>\n",
       "      <td>2.900000e+09</td>\n",
       "      <td>3310000.0</td>\n",
       "      <td>3.229000e+09</td>\n",
       "      <td>89.811087</td>\n",
       "      <td>137541.806020</td>\n",
       "    </tr>\n",
       "    <tr>\n",
       "      <th>5</th>\n",
       "      <td>2199.0</td>\n",
       "      <td>303000000.0</td>\n",
       "      <td>2.170000e+09</td>\n",
       "      <td>3010000.0</td>\n",
       "      <td>2.473000e+09</td>\n",
       "      <td>87.747675</td>\n",
       "      <td>137789.904502</td>\n",
       "    </tr>\n",
       "    <tr>\n",
       "      <th>5</th>\n",
       "      <td>2096.0</td>\n",
       "      <td>292000000.0</td>\n",
       "      <td>2.050000e+09</td>\n",
       "      <td>2930000.0</td>\n",
       "      <td>2.342000e+09</td>\n",
       "      <td>87.532024</td>\n",
       "      <td>139312.977099</td>\n",
       "    </tr>\n",
       "    <tr>\n",
       "      <th>5</th>\n",
       "      <td>1954.0</td>\n",
       "      <td>264000000.0</td>\n",
       "      <td>1.990000e+09</td>\n",
       "      <td>2610000.0</td>\n",
       "      <td>2.254000e+09</td>\n",
       "      <td>88.287489</td>\n",
       "      <td>135107.471853</td>\n",
       "    </tr>\n",
       "    <tr>\n",
       "      <th>5</th>\n",
       "      <td>2037.0</td>\n",
       "      <td>280000000.0</td>\n",
       "      <td>1.400000e+09</td>\n",
       "      <td>2800000.0</td>\n",
       "      <td>1.680000e+09</td>\n",
       "      <td>83.333333</td>\n",
       "      <td>137457.044674</td>\n",
       "    </tr>\n",
       "    <tr>\n",
       "      <th>5</th>\n",
       "      <td>1905.0</td>\n",
       "      <td>263000000.0</td>\n",
       "      <td>2.870000e+09</td>\n",
       "      <td>2600000.0</td>\n",
       "      <td>3.133000e+09</td>\n",
       "      <td>91.605490</td>\n",
       "      <td>138057.742782</td>\n",
       "    </tr>\n",
       "    <tr>\n",
       "      <th>5</th>\n",
       "      <td>1957.0</td>\n",
       "      <td>270000000.0</td>\n",
       "      <td>1.920000e+09</td>\n",
       "      <td>2700000.0</td>\n",
       "      <td>2.190000e+09</td>\n",
       "      <td>87.671233</td>\n",
       "      <td>137966.274911</td>\n",
       "    </tr>\n",
       "    <tr>\n",
       "      <th>5</th>\n",
       "      <td>2014.0</td>\n",
       "      <td>273000000.0</td>\n",
       "      <td>1.320000e+09</td>\n",
       "      <td>2740000.0</td>\n",
       "      <td>1.593000e+09</td>\n",
       "      <td>82.862524</td>\n",
       "      <td>135551.142006</td>\n",
       "    </tr>\n",
       "    <tr>\n",
       "      <th>5</th>\n",
       "      <td>2530.0</td>\n",
       "      <td>348000000.0</td>\n",
       "      <td>1.800000e+09</td>\n",
       "      <td>3460000.0</td>\n",
       "      <td>2.148000e+09</td>\n",
       "      <td>83.798883</td>\n",
       "      <td>137549.407115</td>\n",
       "    </tr>\n",
       "    <tr>\n",
       "      <th>5</th>\n",
       "      <td>2539.0</td>\n",
       "      <td>353000000.0</td>\n",
       "      <td>1.890000e+09</td>\n",
       "      <td>3530000.0</td>\n",
       "      <td>2.243000e+09</td>\n",
       "      <td>84.262149</td>\n",
       "      <td>139031.114612</td>\n",
       "    </tr>\n",
       "  </tbody>\n",
       "</table>\n",
       "</div>"
      ],
      "text/plain": [
       "           solid_sediment_kg  solid_cs137_Bq  liquid_cs137_bq  solid_am241_bq  \\\n",
       "iteration                                                                       \n",
       "5                     2392.0     329000000.0     2.900000e+09       3310000.0   \n",
       "5                     2199.0     303000000.0     2.170000e+09       3010000.0   \n",
       "5                     2096.0     292000000.0     2.050000e+09       2930000.0   \n",
       "5                     1954.0     264000000.0     1.990000e+09       2610000.0   \n",
       "5                     2037.0     280000000.0     1.400000e+09       2800000.0   \n",
       "5                     1905.0     263000000.0     2.870000e+09       2600000.0   \n",
       "5                     1957.0     270000000.0     1.920000e+09       2700000.0   \n",
       "5                     2014.0     273000000.0     1.320000e+09       2740000.0   \n",
       "5                     2530.0     348000000.0     1.800000e+09       3460000.0   \n",
       "5                     2539.0     353000000.0     1.890000e+09       3530000.0   \n",
       "\n",
       "            cs137_total  cs137_liquid_share         SA_sed  \n",
       "iteration                                                   \n",
       "5          3.229000e+09           89.811087  137541.806020  \n",
       "5          2.473000e+09           87.747675  137789.904502  \n",
       "5          2.342000e+09           87.532024  139312.977099  \n",
       "5          2.254000e+09           88.287489  135107.471853  \n",
       "5          1.680000e+09           83.333333  137457.044674  \n",
       "5          3.133000e+09           91.605490  138057.742782  \n",
       "5          2.190000e+09           87.671233  137966.274911  \n",
       "5          1.593000e+09           82.862524  135551.142006  \n",
       "5          2.148000e+09           83.798883  137549.407115  \n",
       "5          2.243000e+09           84.262149  139031.114612  "
      ]
     },
     "execution_count": 492,
     "metadata": {},
     "output_type": "execute_result"
    }
   ],
   "source": [
    "data = pd.read_csv('perstok_new.csv', index_col='iteration')\n",
    "data['cs137_total'] = data['solid_cs137_Bq'] + data['liquid_cs137_bq']\n",
    "data['cs137_liquid_share'] = 100*data['liquid_cs137_bq']/data['cs137_total']\n",
    "data['SA_sed'] = data['solid_cs137_Bq'] / data['solid_sediment_kg']\n",
    "data.head(10)"
   ]
  },
  {
   "cell_type": "code",
   "execution_count": 493,
   "metadata": {},
   "outputs": [
    {
     "data": {
      "text/plain": [
       "Text(0, 0.5, 'p')"
      ]
     },
     "execution_count": 493,
     "metadata": {},
     "output_type": "execute_result"
    },
    {
     "data": {
      "image/png": "[encoded data removed]",
      "text/plain": [
       "<Figure size 432x288 with 1 Axes>"
      ]
     },
     "metadata": {
      "needs_background": "light"
     },
     "output_type": "display_data"
    }
   ],
   "source": [
    "plt.figure(figsize=(6, 4))\n",
    "sns.kdeplot(data=data['solid_sediment_kg'], shade=True, legend=False)\n",
    "plt.xlabel('Твердый сток, кг')\n",
    "plt.ylabel('p')"
   ]
  },
  {
   "cell_type": "code",
   "execution_count": 500,
   "metadata": {},
   "outputs": [
    {
     "data": {
      "text/plain": [
       "<Figure size 432x288 with 0 Axes>"
      ]
     },
     "execution_count": 500,
     "metadata": {},
     "output_type": "execute_result"
    },
    {
     "data": {
      "text/plain": [
       "<Figure size 432x288 with 0 Axes>"
      ]
     },
     "metadata": {},
     "output_type": "display_data"
    }
   ],
   "source": [
    "plt.figure(figsize=(6, 4))"
   ]
  },
  {
   "cell_type": "code",
   "execution_count": 501,
   "metadata": {},
   "outputs": [
    {
     "data": {
      "text/plain": [
       "Text(0.5, 0, 'Поступление $^{137}Cs$ с твердым стоком, Бк')"
      ]
     },
     "execution_count": 501,
     "metadata": {},
     "output_type": "execute_result"
    },
    {
     "data": {
      "image/png": "[encoded data removed]",
      "text/plain": [
       "<Figure size 432x288 with 1 Axes>"
      ]
     },
     "metadata": {
      "needs_background": "light"
     },
     "output_type": "display_data"
    }
   ],
   "source": [
    "plt.figure(figsize=(6, 4))\n",
    "sns.kdeplot(data=data['solid_cs137_Bq'], shade=True, legend=False)\n",
    "#plt.axes(0,1e7,0,8e-7)\n",
    "plt.ylabel('p')\n",
    "plt.xlabel('Поступление $^{137}Cs$ с твердым стоком, Бк')"
   ]
  },
  {
   "cell_type": "code",
   "execution_count": 502,
   "metadata": {},
   "outputs": [
    {
     "data": {
      "text/plain": [
       "Text(0.5, 0, 'Поступление $^{137}Cs$ с жидким стоком, Бк')"
      ]
     },
     "execution_count": 502,
     "metadata": {},
     "output_type": "execute_result"
    },
    {
     "data": {
      "image/png": "[encoded data removed]",
      "text/plain": [
       "<Figure size 432x288 with 1 Axes>"
      ]
     },
     "metadata": {
      "needs_background": "light"
     },
     "output_type": "display_data"
    }
   ],
   "source": [
    "plt.figure(figsize=(6, 4))\n",
    "sns.kdeplot(data=data['liquid_cs137_bq'], shade=True, legend=False)\n",
    "plt.ylabel('p')\n",
    "plt.xlabel('Поступление $^{137}Cs$ с жидким стоком, Бк')"
   ]
  },
  {
   "cell_type": "code",
   "execution_count": 503,
   "metadata": {},
   "outputs": [
    {
     "data": {
      "text/plain": [
       "Text(0.5, 0, 'Общее поступление $^{137}Cs$, Бк')"
      ]
     },
     "execution_count": 503,
     "metadata": {},
     "output_type": "execute_result"
    },
    {
     "data": {
      "image/png": "[encoded data removed]",
      "text/plain": [
       "<Figure size 432x288 with 1 Axes>"
      ]
     },
     "metadata": {
      "needs_background": "light"
     },
     "output_type": "display_data"
    }
   ],
   "source": [
    "plt.figure(figsize=(6, 4))\n",
    "sns.kdeplot(data=data['cs137_total'], shade=True, legend=False)\n",
    "plt.ylabel('p')\n",
    "plt.xlabel('Общее поступление $^{137}Cs$, Бк')"
   ]
  },
  {
   "cell_type": "code",
   "execution_count": 504,
   "metadata": {},
   "outputs": [
    {
     "data": {
      "text/plain": [
       "Text(0.5, 0, 'Поступление $^{241}Am$ с твердым стоком, Бк')"
      ]
     },
     "execution_count": 504,
     "metadata": {},
     "output_type": "execute_result"
    },
    {
     "data": {
      "image/png": "[encoded data removed]",
      "text/plain": [
       "<Figure size 432x288 with 1 Axes>"
      ]
     },
     "metadata": {
      "needs_background": "light"
     },
     "output_type": "display_data"
    }
   ],
   "source": [
    "plt.figure(figsize=(6, 4))\n",
    "sns.kdeplot(data=data['solid_am241_bq'], shade=True, legend=False)\n",
    "plt.ylabel('p')\n",
    "plt.xlabel('Поступление $^{241}Am$ с твердым стоком, Бк')"
   ]
  },
  {
   "cell_type": "code",
   "execution_count": 505,
   "metadata": {},
   "outputs": [
    {
     "data": {
      "text/html": [
       "<div>\n",
       "<style scoped>\n",
       "    .dataframe tbody tr th:only-of-type {\n",
       "        vertical-align: middle;\n",
       "    }\n",
       "\n",
       "    .dataframe tbody tr th {\n",
       "        vertical-align: top;\n",
       "    }\n",
       "\n",
       "    .dataframe thead th {\n",
       "        text-align: right;\n",
       "    }\n",
       "</style>\n",
       "<table border=\"1\" class=\"dataframe\">\n",
       "  <thead>\n",
       "    <tr style=\"text-align: right;\">\n",
       "      <th></th>\n",
       "      <th>solid_sediment_kg</th>\n",
       "      <th>solid_cs137_Bq</th>\n",
       "      <th>liquid_cs137_bq</th>\n",
       "      <th>solid_am241_bq</th>\n",
       "      <th>cs137_total</th>\n",
       "      <th>cs137_liquid_share</th>\n",
       "      <th>SA_sed</th>\n",
       "    </tr>\n",
       "  </thead>\n",
       "  <tbody>\n",
       "    <tr>\n",
       "      <th>count</th>\n",
       "      <td>1000.000000</td>\n",
       "      <td>1.000000e+03</td>\n",
       "      <td>1.000000e+03</td>\n",
       "      <td>1.000000e+03</td>\n",
       "      <td>1.000000e+03</td>\n",
       "      <td>1000.000000</td>\n",
       "      <td>1000.000000</td>\n",
       "    </tr>\n",
       "    <tr>\n",
       "      <th>mean</th>\n",
       "      <td>2147.118000</td>\n",
       "      <td>2.932600e+08</td>\n",
       "      <td>2.115678e+09</td>\n",
       "      <td>2.941370e+06</td>\n",
       "      <td>2.408938e+09</td>\n",
       "      <td>86.694847</td>\n",
       "      <td>136541.647438</td>\n",
       "    </tr>\n",
       "    <tr>\n",
       "      <th>std</th>\n",
       "      <td>302.260128</td>\n",
       "      <td>4.202150e+07</td>\n",
       "      <td>7.262278e+08</td>\n",
       "      <td>4.206580e+05</td>\n",
       "      <td>7.286918e+08</td>\n",
       "      <td>4.584614</td>\n",
       "      <td>1531.236371</td>\n",
       "    </tr>\n",
       "    <tr>\n",
       "      <th>min</th>\n",
       "      <td>1316.000000</td>\n",
       "      <td>1.770000e+08</td>\n",
       "      <td>3.940000e+08</td>\n",
       "      <td>1.770000e+06</td>\n",
       "      <td>7.320000e+08</td>\n",
       "      <td>53.825137</td>\n",
       "      <td>132390.745501</td>\n",
       "    </tr>\n",
       "    <tr>\n",
       "      <th>25%</th>\n",
       "      <td>1936.750000</td>\n",
       "      <td>2.640000e+08</td>\n",
       "      <td>1.620000e+09</td>\n",
       "      <td>2.640000e+06</td>\n",
       "      <td>1.903000e+09</td>\n",
       "      <td>84.459234</td>\n",
       "      <td>135557.563481</td>\n",
       "    </tr>\n",
       "    <tr>\n",
       "      <th>50%</th>\n",
       "      <td>2141.000000</td>\n",
       "      <td>2.920000e+08</td>\n",
       "      <td>2.040000e+09</td>\n",
       "      <td>2.930000e+06</td>\n",
       "      <td>2.345000e+09</td>\n",
       "      <td>87.410711</td>\n",
       "      <td>136480.139266</td>\n",
       "    </tr>\n",
       "    <tr>\n",
       "      <th>75%</th>\n",
       "      <td>2350.500000</td>\n",
       "      <td>3.220000e+08</td>\n",
       "      <td>2.532500e+09</td>\n",
       "      <td>3.220000e+06</td>\n",
       "      <td>2.831000e+09</td>\n",
       "      <td>89.897057</td>\n",
       "      <td>137505.531630</td>\n",
       "    </tr>\n",
       "    <tr>\n",
       "      <th>max</th>\n",
       "      <td>3748.000000</td>\n",
       "      <td>5.120000e+08</td>\n",
       "      <td>5.590000e+09</td>\n",
       "      <td>5.170000e+06</td>\n",
       "      <td>5.913000e+09</td>\n",
       "      <td>95.238095</td>\n",
       "      <td>142547.660312</td>\n",
       "    </tr>\n",
       "  </tbody>\n",
       "</table>\n",
       "</div>"
      ],
      "text/plain": [
       "       solid_sediment_kg  solid_cs137_Bq  liquid_cs137_bq  solid_am241_bq  \\\n",
       "count        1000.000000    1.000000e+03     1.000000e+03    1.000000e+03   \n",
       "mean         2147.118000    2.932600e+08     2.115678e+09    2.941370e+06   \n",
       "std           302.260128    4.202150e+07     7.262278e+08    4.206580e+05   \n",
       "min          1316.000000    1.770000e+08     3.940000e+08    1.770000e+06   \n",
       "25%          1936.750000    2.640000e+08     1.620000e+09    2.640000e+06   \n",
       "50%          2141.000000    2.920000e+08     2.040000e+09    2.930000e+06   \n",
       "75%          2350.500000    3.220000e+08     2.532500e+09    3.220000e+06   \n",
       "max          3748.000000    5.120000e+08     5.590000e+09    5.170000e+06   \n",
       "\n",
       "        cs137_total  cs137_liquid_share         SA_sed  \n",
       "count  1.000000e+03         1000.000000    1000.000000  \n",
       "mean   2.408938e+09           86.694847  136541.647438  \n",
       "std    7.286918e+08            4.584614    1531.236371  \n",
       "min    7.320000e+08           53.825137  132390.745501  \n",
       "25%    1.903000e+09           84.459234  135557.563481  \n",
       "50%    2.345000e+09           87.410711  136480.139266  \n",
       "75%    2.831000e+09           89.897057  137505.531630  \n",
       "max    5.913000e+09           95.238095  142547.660312  "
      ]
     },
     "execution_count": 505,
     "metadata": {},
     "output_type": "execute_result"
    }
   ],
   "source": [
    "data.describe()"
   ]
  },
  {
   "cell_type": "code",
   "execution_count": 506,
   "metadata": {},
   "outputs": [
    {
     "data": {
      "text/plain": [
       "0.025    9.298500e+08\n",
       "0.975    3.730000e+09\n",
       "Name: liquid_cs137_bq, dtype: float64"
      ]
     },
     "execution_count": 506,
     "metadata": {},
     "output_type": "execute_result"
    }
   ],
   "source": [
    "data['liquid_cs137_bq'].quantile(q=[0.025,0.975])"
   ]
  },
  {
   "cell_type": "code",
   "execution_count": 507,
   "metadata": {},
   "outputs": [
    {
     "data": {
      "text/plain": [
       "0.025    215975000.0\n",
       "0.975    381025000.0\n",
       "Name: solid_cs137_Bq, dtype: float64"
      ]
     },
     "execution_count": 507,
     "metadata": {},
     "output_type": "execute_result"
    }
   ],
   "source": [
    "data['solid_cs137_Bq'].quantile(q=[0.025,0.975])"
   ]
  },
  {
   "cell_type": "code",
   "execution_count": 233,
   "metadata": {},
   "outputs": [
    {
     "data": {
      "text/plain": [
       "0.025    2.759000e+08\n",
       "0.975    2.289375e+09\n",
       "Name: cs137_total, dtype: float64"
      ]
     },
     "execution_count": 233,
     "metadata": {},
     "output_type": "execute_result"
    }
   ],
   "source": [
    "data['cs137_total'].quantile(q=[0.025,0.975])"
   ]
  },
  {
   "cell_type": "code",
   "execution_count": 52,
   "metadata": {},
   "outputs": [
    {
     "data": {
      "text/plain": [
       "0.025    1.770000e+09\n",
       "0.975    1.840000e+09\n",
       "Name: solid_am241_bq, dtype: float64"
      ]
     },
     "execution_count": 52,
     "metadata": {},
     "output_type": "execute_result"
    }
   ],
   "source": [
    "data['solid_am241_bq'].quantile(q=[0.025,0.975])"
   ]
  },
  {
   "cell_type": "code",
   "execution_count": 53,
   "metadata": {},
   "outputs": [
    {
     "data": {
      "text/html": [
       "<div>\n",
       "<style scoped>\n",
       "    .dataframe tbody tr th:only-of-type {\n",
       "        vertical-align: middle;\n",
       "    }\n",
       "\n",
       "    .dataframe tbody tr th {\n",
       "        vertical-align: top;\n",
       "    }\n",
       "\n",
       "    .dataframe thead th {\n",
       "        text-align: right;\n",
       "    }\n",
       "</style>\n",
       "<table border=\"1\" class=\"dataframe\">\n",
       "  <thead>\n",
       "    <tr style=\"text-align: right;\">\n",
       "      <th></th>\n",
       "      <th>Шифр</th>\n",
       "      <th>m</th>\n",
       "      <th>Cs-137 (Бк/пробу)</th>\n",
       "      <th>Unnamed: 3</th>\n",
       "      <th>Am-241 (Бк/пробу)</th>\n",
       "      <th>Unnamed: 5</th>\n",
       "      <th>Pb-210 (Бк/пробу)</th>\n",
       "      <th>Unnamed: 7</th>\n",
       "      <th>Pb-214(Бк/пробу)</th>\n",
       "      <th>Unnamed: 9</th>\n",
       "      <th>...</th>\n",
       "      <th>Unnamed: 21</th>\n",
       "      <th>Cs-137, Бк/м2</th>\n",
       "      <th>Am-241, Бк/м2</th>\n",
       "      <th>Pb-210, Бк/м2</th>\n",
       "      <th>Pb-214, Бк/м2</th>\n",
       "      <th>Unnamed: 26</th>\n",
       "      <th>Cs-137 err</th>\n",
       "      <th>Am-241 err</th>\n",
       "      <th>Pb-210 err</th>\n",
       "      <th>Pr-214 err</th>\n",
       "    </tr>\n",
       "  </thead>\n",
       "  <tbody>\n",
       "    <tr>\n",
       "      <th>0</th>\n",
       "      <td>NaN</td>\n",
       "      <td>NaN</td>\n",
       "      <td>УА</td>\n",
       "      <td>%</td>\n",
       "      <td>УА</td>\n",
       "      <td>%</td>\n",
       "      <td>УА</td>\n",
       "      <td>%</td>\n",
       "      <td>УА</td>\n",
       "      <td>%</td>\n",
       "      <td>...</td>\n",
       "      <td>NaN</td>\n",
       "      <td>NaN</td>\n",
       "      <td>NaN</td>\n",
       "      <td>NaN</td>\n",
       "      <td>NaN</td>\n",
       "      <td>NaN</td>\n",
       "      <td>NaN</td>\n",
       "      <td>NaN</td>\n",
       "      <td>NaN</td>\n",
       "      <td>NaN</td>\n",
       "    </tr>\n",
       "    <tr>\n",
       "      <th>1</th>\n",
       "      <td>Perstok 0-1,5</td>\n",
       "      <td>0.00381</td>\n",
       "      <td>222,12</td>\n",
       "      <td>11,89</td>\n",
       "      <td>3,43</td>\n",
       "      <td>0,21</td>\n",
       "      <td>0,618</td>\n",
       "      <td>0,215</td>\n",
       "      <td>-0,0514</td>\n",
       "      <td>0,051</td>\n",
       "      <td>...</td>\n",
       "      <td>NaN</td>\n",
       "      <td>113182.165605</td>\n",
       "      <td>1747.770701</td>\n",
       "      <td>314.904459</td>\n",
       "      <td>-26.191083</td>\n",
       "      <td>NaN</td>\n",
       "      <td>3120.73</td>\n",
       "      <td>55.12</td>\n",
       "      <td>0.056430</td>\n",
       "      <td>0.013386</td>\n",
       "    </tr>\n",
       "    <tr>\n",
       "      <th>2</th>\n",
       "      <td>Perstok 1,5-3</td>\n",
       "      <td>0.00472</td>\n",
       "      <td>316,99</td>\n",
       "      <td>16,91</td>\n",
       "      <td>5,856</td>\n",
       "      <td>0,365</td>\n",
       "      <td>0,9472</td>\n",
       "      <td>0,4325</td>\n",
       "      <td>0,0296</td>\n",
       "      <td>0,1152</td>\n",
       "      <td>...</td>\n",
       "      <td>NaN</td>\n",
       "      <td>161523.566879</td>\n",
       "      <td>2983.949045</td>\n",
       "      <td>482.649682</td>\n",
       "      <td>15.082803</td>\n",
       "      <td>NaN</td>\n",
       "      <td>3582.63</td>\n",
       "      <td>77.33</td>\n",
       "      <td>0.091631</td>\n",
       "      <td>0.024407</td>\n",
       "    </tr>\n",
       "    <tr>\n",
       "      <th>3</th>\n",
       "      <td>Perstok 3-4,5</td>\n",
       "      <td>0.00299</td>\n",
       "      <td>175,95</td>\n",
       "      <td>9,42</td>\n",
       "      <td>3,75</td>\n",
       "      <td>0,23</td>\n",
       "      <td>0,0185</td>\n",
       "      <td>0,133</td>\n",
       "      <td>0,0969</td>\n",
       "      <td>0,0361</td>\n",
       "      <td>...</td>\n",
       "      <td>NaN</td>\n",
       "      <td>89656.050955</td>\n",
       "      <td>1910.828025</td>\n",
       "      <td>9.426752</td>\n",
       "      <td>49.375796</td>\n",
       "      <td>NaN</td>\n",
       "      <td>3150.50</td>\n",
       "      <td>76.92</td>\n",
       "      <td>0.044482</td>\n",
       "      <td>0.012074</td>\n",
       "    </tr>\n",
       "    <tr>\n",
       "      <th>4</th>\n",
       "      <td>Perstok 4,5-6</td>\n",
       "      <td>0.00265</td>\n",
       "      <td>167,7</td>\n",
       "      <td>8,96</td>\n",
       "      <td>3,787</td>\n",
       "      <td>0,233</td>\n",
       "      <td>0,5139</td>\n",
       "      <td>0,1709</td>\n",
       "      <td>-0,0554</td>\n",
       "      <td>0,0513</td>\n",
       "      <td>...</td>\n",
       "      <td>NaN</td>\n",
       "      <td>85452.229299</td>\n",
       "      <td>1929.681529</td>\n",
       "      <td>261.859873</td>\n",
       "      <td>-28.229299</td>\n",
       "      <td>NaN</td>\n",
       "      <td>3381.13</td>\n",
       "      <td>87.92</td>\n",
       "      <td>0.064491</td>\n",
       "      <td>0.019358</td>\n",
       "    </tr>\n",
       "  </tbody>\n",
       "</table>\n",
       "<p>5 rows × 31 columns</p>\n",
       "</div>"
      ],
      "text/plain": [
       "            Шифр        m Cs-137 (Бк/пробу) Unnamed: 3 Am-241 (Бк/пробу)  \\\n",
       "0            NaN      NaN                УА          %                УА   \n",
       "1  Perstok 0-1,5  0.00381            222,12      11,89              3,43   \n",
       "2  Perstok 1,5-3  0.00472            316,99      16,91             5,856   \n",
       "3  Perstok 3-4,5  0.00299            175,95       9,42              3,75   \n",
       "4  Perstok 4,5-6  0.00265             167,7       8,96             3,787   \n",
       "\n",
       "  Unnamed: 5 Pb-210 (Бк/пробу) Unnamed: 7 Pb-214(Бк/пробу) Unnamed: 9  ...  \\\n",
       "0          %                УА          %               УА          %  ...   \n",
       "1       0,21             0,618      0,215          -0,0514      0,051  ...   \n",
       "2      0,365            0,9472     0,4325           0,0296     0,1152  ...   \n",
       "3       0,23            0,0185      0,133           0,0969     0,0361  ...   \n",
       "4      0,233            0,5139     0,1709          -0,0554     0,0513  ...   \n",
       "\n",
       "  Unnamed: 21  Cs-137, Бк/м2 Am-241, Бк/м2 Pb-210, Бк/м2 Pb-214, Бк/м2  \\\n",
       "0         NaN            NaN           NaN           NaN           NaN   \n",
       "1         NaN  113182.165605   1747.770701    314.904459    -26.191083   \n",
       "2         NaN  161523.566879   2983.949045    482.649682     15.082803   \n",
       "3         NaN   89656.050955   1910.828025      9.426752     49.375796   \n",
       "4         NaN   85452.229299   1929.681529    261.859873    -28.229299   \n",
       "\n",
       "  Unnamed: 26  Cs-137 err  Am-241 err  Pb-210 err  Pr-214 err  \n",
       "0         NaN         NaN         NaN         NaN         NaN  \n",
       "1         NaN     3120.73       55.12    0.056430    0.013386  \n",
       "2         NaN     3582.63       77.33    0.091631    0.024407  \n",
       "3         NaN     3150.50       76.92    0.044482    0.012074  \n",
       "4         NaN     3381.13       87.92    0.064491    0.019358  \n",
       "\n",
       "[5 rows x 31 columns]"
      ]
     },
     "execution_count": 53,
     "metadata": {},
     "output_type": "execute_result"
    }
   ],
   "source": [
    "#donnye = pd.read_csv('../../2019/2019_06_03_Perstok_donnye1-5-1.csv', sep=';', decimal=',')\n",
    "donnye = pd.read_csv('../../2019/2019_07_01_Perstok_donnye1-5-1.csv', sep=';', decimal=',')\n",
    "donnye.head()"
   ]
  },
  {
   "cell_type": "code",
   "execution_count": 14,
   "metadata": {
    "scrolled": true
   },
   "outputs": [
    {
     "ename": "KeyError",
     "evalue": "'Cs-137 Бк/кг'",
     "output_type": "error",
     "traceback": [
      "\u001b[0;31m---------------------------------------------------------------------------\u001b[0m",
      "\u001b[0;31mKeyError\u001b[0m                                  Traceback (most recent call last)",
      "\u001b[0;32m~/anaconda3/lib/python3.7/site-packages/pandas/core/indexes/base.py\u001b[0m in \u001b[0;36mget_loc\u001b[0;34m(self, key, method, tolerance)\u001b[0m\n\u001b[1;32m   2656\u001b[0m             \u001b[0;32mtry\u001b[0m\u001b[0;34m:\u001b[0m\u001b[0;34m\u001b[0m\u001b[0;34m\u001b[0m\u001b[0m\n\u001b[0;32m-> 2657\u001b[0;31m                 \u001b[0;32mreturn\u001b[0m \u001b[0mself\u001b[0m\u001b[0;34m.\u001b[0m\u001b[0m_engine\u001b[0m\u001b[0;34m.\u001b[0m\u001b[0mget_loc\u001b[0m\u001b[0;34m(\u001b[0m\u001b[0mkey\u001b[0m\u001b[0;34m)\u001b[0m\u001b[0;34m\u001b[0m\u001b[0;34m\u001b[0m\u001b[0m\n\u001b[0m\u001b[1;32m   2658\u001b[0m             \u001b[0;32mexcept\u001b[0m \u001b[0mKeyError\u001b[0m\u001b[0;34m:\u001b[0m\u001b[0;34m\u001b[0m\u001b[0;34m\u001b[0m\u001b[0m\n",
      "\u001b[0;32mpandas/_libs/index.pyx\u001b[0m in \u001b[0;36mpandas._libs.index.IndexEngine.get_loc\u001b[0;34m()\u001b[0m\n",
      "\u001b[0;32mpandas/_libs/index.pyx\u001b[0m in \u001b[0;36mpandas._libs.index.IndexEngine.get_loc\u001b[0;34m()\u001b[0m\n",
      "\u001b[0;32mpandas/_libs/hashtable_class_helper.pxi\u001b[0m in \u001b[0;36mpandas._libs.hashtable.PyObjectHashTable.get_item\u001b[0;34m()\u001b[0m\n",
      "\u001b[0;32mpandas/_libs/hashtable_class_helper.pxi\u001b[0m in \u001b[0;36mpandas._libs.hashtable.PyObjectHashTable.get_item\u001b[0;34m()\u001b[0m\n",
      "\u001b[0;31mKeyError\u001b[0m: 'Cs-137 Бк/кг'",
      "\nDuring handling of the above exception, another exception occurred:\n",
      "\u001b[0;31mKeyError\u001b[0m                                  Traceback (most recent call last)",
      "\u001b[0;32m<ipython-input-14-2fd4f60ef387>\u001b[0m in \u001b[0;36m<module>\u001b[0;34m\u001b[0m\n\u001b[1;32m      1\u001b[0m \u001b[0mplt\u001b[0m\u001b[0;34m.\u001b[0m\u001b[0mfigure\u001b[0m\u001b[0;34m(\u001b[0m\u001b[0mfigsize\u001b[0m\u001b[0;34m=\u001b[0m\u001b[0;34m(\u001b[0m\u001b[0;36m8\u001b[0m\u001b[0;34m,\u001b[0m\u001b[0;36m8\u001b[0m\u001b[0;34m)\u001b[0m\u001b[0;34m)\u001b[0m\u001b[0;34m\u001b[0m\u001b[0;34m\u001b[0m\u001b[0m\n\u001b[0;32m----> 2\u001b[0;31m \u001b[0msns\u001b[0m\u001b[0;34m.\u001b[0m\u001b[0mbarplot\u001b[0m\u001b[0;34m(\u001b[0m\u001b[0mx\u001b[0m\u001b[0;34m=\u001b[0m\u001b[0mdonnye\u001b[0m\u001b[0;34m[\u001b[0m\u001b[0;34m'Cs-137 Бк/кг'\u001b[0m\u001b[0;34m]\u001b[0m\u001b[0;34m,\u001b[0m \u001b[0my\u001b[0m\u001b[0;34m=\u001b[0m\u001b[0mdonnye\u001b[0m\u001b[0;34m[\u001b[0m\u001b[0;34m'Layer'\u001b[0m\u001b[0;34m]\u001b[0m\u001b[0;34m,\u001b[0m \u001b[0mxerr\u001b[0m\u001b[0;34m=\u001b[0m\u001b[0mdonnye\u001b[0m\u001b[0;34m[\u001b[0m\u001b[0;34m'Cs-137 err'\u001b[0m\u001b[0;34m]\u001b[0m\u001b[0;34m,\u001b[0m \u001b[0mcolor\u001b[0m\u001b[0;34m=\u001b[0m\u001b[0;34m'b'\u001b[0m\u001b[0;34m)\u001b[0m\u001b[0;34m\u001b[0m\u001b[0;34m\u001b[0m\u001b[0m\n\u001b[0m\u001b[1;32m      3\u001b[0m \u001b[0mplt\u001b[0m\u001b[0;34m.\u001b[0m\u001b[0mxlabel\u001b[0m\u001b[0;34m(\u001b[0m\u001b[0;34m'Удельная активность $^{137}Cs$, Бк/кг'\u001b[0m\u001b[0;34m)\u001b[0m\u001b[0;34m\u001b[0m\u001b[0;34m\u001b[0m\u001b[0m\n\u001b[1;32m      4\u001b[0m \u001b[0mplt\u001b[0m\u001b[0;34m.\u001b[0m\u001b[0mylabel\u001b[0m\u001b[0;34m(\u001b[0m\u001b[0;34m'Слой, см'\u001b[0m\u001b[0;34m)\u001b[0m\u001b[0;34m\u001b[0m\u001b[0;34m\u001b[0m\u001b[0m\n\u001b[1;32m      5\u001b[0m \u001b[0mplt\u001b[0m\u001b[0;34m.\u001b[0m\u001b[0mshow\u001b[0m\u001b[0;34m(\u001b[0m\u001b[0;34m)\u001b[0m\u001b[0;34m\u001b[0m\u001b[0;34m\u001b[0m\u001b[0m\n",
      "\u001b[0;32m~/anaconda3/lib/python3.7/site-packages/pandas/core/frame.py\u001b[0m in \u001b[0;36m__getitem__\u001b[0;34m(self, key)\u001b[0m\n\u001b[1;32m   2925\u001b[0m             \u001b[0;32mif\u001b[0m \u001b[0mself\u001b[0m\u001b[0;34m.\u001b[0m\u001b[0mcolumns\u001b[0m\u001b[0;34m.\u001b[0m\u001b[0mnlevels\u001b[0m \u001b[0;34m>\u001b[0m \u001b[0;36m1\u001b[0m\u001b[0;34m:\u001b[0m\u001b[0;34m\u001b[0m\u001b[0;34m\u001b[0m\u001b[0m\n\u001b[1;32m   2926\u001b[0m                 \u001b[0;32mreturn\u001b[0m \u001b[0mself\u001b[0m\u001b[0;34m.\u001b[0m\u001b[0m_getitem_multilevel\u001b[0m\u001b[0;34m(\u001b[0m\u001b[0mkey\u001b[0m\u001b[0;34m)\u001b[0m\u001b[0;34m\u001b[0m\u001b[0;34m\u001b[0m\u001b[0m\n\u001b[0;32m-> 2927\u001b[0;31m             \u001b[0mindexer\u001b[0m \u001b[0;34m=\u001b[0m \u001b[0mself\u001b[0m\u001b[0;34m.\u001b[0m\u001b[0mcolumns\u001b[0m\u001b[0;34m.\u001b[0m\u001b[0mget_loc\u001b[0m\u001b[0;34m(\u001b[0m\u001b[0mkey\u001b[0m\u001b[0;34m)\u001b[0m\u001b[0;34m\u001b[0m\u001b[0;34m\u001b[0m\u001b[0m\n\u001b[0m\u001b[1;32m   2928\u001b[0m             \u001b[0;32mif\u001b[0m \u001b[0mis_integer\u001b[0m\u001b[0;34m(\u001b[0m\u001b[0mindexer\u001b[0m\u001b[0;34m)\u001b[0m\u001b[0;34m:\u001b[0m\u001b[0;34m\u001b[0m\u001b[0;34m\u001b[0m\u001b[0m\n\u001b[1;32m   2929\u001b[0m                 \u001b[0mindexer\u001b[0m \u001b[0;34m=\u001b[0m \u001b[0;34m[\u001b[0m\u001b[0mindexer\u001b[0m\u001b[0;34m]\u001b[0m\u001b[0;34m\u001b[0m\u001b[0;34m\u001b[0m\u001b[0m\n",
      "\u001b[0;32m~/anaconda3/lib/python3.7/site-packages/pandas/core/indexes/base.py\u001b[0m in \u001b[0;36mget_loc\u001b[0;34m(self, key, method, tolerance)\u001b[0m\n\u001b[1;32m   2657\u001b[0m                 \u001b[0;32mreturn\u001b[0m \u001b[0mself\u001b[0m\u001b[0;34m.\u001b[0m\u001b[0m_engine\u001b[0m\u001b[0;34m.\u001b[0m\u001b[0mget_loc\u001b[0m\u001b[0;34m(\u001b[0m\u001b[0mkey\u001b[0m\u001b[0;34m)\u001b[0m\u001b[0;34m\u001b[0m\u001b[0;34m\u001b[0m\u001b[0m\n\u001b[1;32m   2658\u001b[0m             \u001b[0;32mexcept\u001b[0m \u001b[0mKeyError\u001b[0m\u001b[0;34m:\u001b[0m\u001b[0;34m\u001b[0m\u001b[0;34m\u001b[0m\u001b[0m\n\u001b[0;32m-> 2659\u001b[0;31m                 \u001b[0;32mreturn\u001b[0m \u001b[0mself\u001b[0m\u001b[0;34m.\u001b[0m\u001b[0m_engine\u001b[0m\u001b[0;34m.\u001b[0m\u001b[0mget_loc\u001b[0m\u001b[0;34m(\u001b[0m\u001b[0mself\u001b[0m\u001b[0;34m.\u001b[0m\u001b[0m_maybe_cast_indexer\u001b[0m\u001b[0;34m(\u001b[0m\u001b[0mkey\u001b[0m\u001b[0;34m)\u001b[0m\u001b[0;34m)\u001b[0m\u001b[0;34m\u001b[0m\u001b[0;34m\u001b[0m\u001b[0m\n\u001b[0m\u001b[1;32m   2660\u001b[0m         \u001b[0mindexer\u001b[0m \u001b[0;34m=\u001b[0m \u001b[0mself\u001b[0m\u001b[0;34m.\u001b[0m\u001b[0mget_indexer\u001b[0m\u001b[0;34m(\u001b[0m\u001b[0;34m[\u001b[0m\u001b[0mkey\u001b[0m\u001b[0;34m]\u001b[0m\u001b[0;34m,\u001b[0m \u001b[0mmethod\u001b[0m\u001b[0;34m=\u001b[0m\u001b[0mmethod\u001b[0m\u001b[0;34m,\u001b[0m \u001b[0mtolerance\u001b[0m\u001b[0;34m=\u001b[0m\u001b[0mtolerance\u001b[0m\u001b[0;34m)\u001b[0m\u001b[0;34m\u001b[0m\u001b[0;34m\u001b[0m\u001b[0m\n\u001b[1;32m   2661\u001b[0m         \u001b[0;32mif\u001b[0m \u001b[0mindexer\u001b[0m\u001b[0;34m.\u001b[0m\u001b[0mndim\u001b[0m \u001b[0;34m>\u001b[0m \u001b[0;36m1\u001b[0m \u001b[0;32mor\u001b[0m \u001b[0mindexer\u001b[0m\u001b[0;34m.\u001b[0m\u001b[0msize\u001b[0m \u001b[0;34m>\u001b[0m \u001b[0;36m1\u001b[0m\u001b[0;34m:\u001b[0m\u001b[0;34m\u001b[0m\u001b[0;34m\u001b[0m\u001b[0m\n",
      "\u001b[0;32mpandas/_libs/index.pyx\u001b[0m in \u001b[0;36mpandas._libs.index.IndexEngine.get_loc\u001b[0;34m()\u001b[0m\n",
      "\u001b[0;32mpandas/_libs/index.pyx\u001b[0m in \u001b[0;36mpandas._libs.index.IndexEngine.get_loc\u001b[0;34m()\u001b[0m\n",
      "\u001b[0;32mpandas/_libs/hashtable_class_helper.pxi\u001b[0m in \u001b[0;36mpandas._libs.hashtable.PyObjectHashTable.get_item\u001b[0;34m()\u001b[0m\n",
      "\u001b[0;32mpandas/_libs/hashtable_class_helper.pxi\u001b[0m in \u001b[0;36mpandas._libs.hashtable.PyObjectHashTable.get_item\u001b[0;34m()\u001b[0m\n",
      "\u001b[0;31mKeyError\u001b[0m: 'Cs-137 Бк/кг'"
     ]
    },
    {
     "data": {
      "text/plain": [
       "<Figure size 576x576 with 0 Axes>"
      ]
     },
     "metadata": {},
     "output_type": "display_data"
    }
   ],
   "source": [
    "plt.figure(figsize=(8,8))\n",
    "sns.barplot(x=donnye['Cs-137 Бк/кг'], y=donnye['Layer'], xerr=donnye['Cs-137 err'], color='b')\n",
    "plt.xlabel('Удельная активность $^{137}Cs$, Бк/кг')\n",
    "plt.ylabel('Слой, см')\n",
    "plt.show()"
   ]
  },
  {
   "cell_type": "code",
   "execution_count": 15,
   "metadata": {
    "scrolled": true
   },
   "outputs": [
    {
     "data": {
      "text/plain": [
       "Text(0, 0.5, 'Слой, см')"
      ]
     },
     "execution_count": 15,
     "metadata": {},
     "output_type": "execute_result"
    },
    {
     "data": {
      "image/png": "[encoded data removed]",
      "text/plain": [
       "<Figure size 576x576 with 1 Axes>"
      ]
     },
     "metadata": {
      "needs_background": "light"
     },
     "output_type": "display_data"
    }
   ],
   "source": [
    "plt.figure(figsize=(8,8))\n",
    "sns.barplot(x=donnye['Am-241 Бк/кг'], y=donnye['Layer'], xerr=donnye['Am-241 err'], color='r')\n",
    "plt.xlabel('Удельная активность $^{241}Am$, Бк/кг')\n",
    "plt.ylabel('Слой, см')"
   ]
  },
  {
   "cell_type": "code",
   "execution_count": 16,
   "metadata": {
    "scrolled": true
   },
   "outputs": [
    {
     "data": {
      "text/plain": [
       "Text(0, 0.5, 'Слой, см')"
      ]
     },
     "execution_count": 16,
     "metadata": {},
     "output_type": "execute_result"
    },
    {
     "data": {
      "image/png": "[encoded data removed]",
      "text/plain": [
       "<Figure size 576x576 with 1 Axes>"
      ]
     },
     "metadata": {
      "needs_background": "light"
     },
     "output_type": "display_data"
    }
   ],
   "source": [
    "plt.figure(figsize=(8,8))\n",
    "sns.barplot(x=donnye['Cs-137 Бк/м2'], y=donnye['Layer'], color='b')\n",
    "plt.xlabel('Плотность загрязнения $^{137}Cs, Бк/м^{2}$')\n",
    "plt.ylabel('Слой, см')"
   ]
  },
  {
   "cell_type": "code",
   "execution_count": 17,
   "metadata": {
    "scrolled": true
   },
   "outputs": [
    {
     "data": {
      "text/plain": [
       "Text(0, 0.5, 'Слой, см')"
      ]
     },
     "execution_count": 17,
     "metadata": {},
     "output_type": "execute_result"
    },
    {
     "data": {
      "image/png": "[encoded data removed]",
      "text/plain": [
       "<Figure size 576x576 with 1 Axes>"
      ]
     },
     "metadata": {
      "needs_background": "light"
     },
     "output_type": "display_data"
    }
   ],
   "source": [
    "plt.figure(figsize=(8,8))\n",
    "sns.barplot(x=donnye['Am-241 Бк/м2'], y=donnye['Layer'], color='r')\n",
    "plt.xlabel('Плотность загрязнения $^{241}Am, Бк/м^{2}$')\n",
    "plt.ylabel('Слой, см')"
   ]
  },
  {
   "cell_type": "code",
   "execution_count": 18,
   "metadata": {},
   "outputs": [
    {
     "data": {
      "text/plain": [
       "0.36160714285714285"
      ]
     },
     "execution_count": 18,
     "metadata": {},
     "output_type": "execute_result"
    }
   ],
   "source": [
    "def deposition_rate(pb210_top, pb214_top, pb210_bot, pb214_bot, depth_top, depth_bot):\n",
    "    T_05 = 22.3 # year, Half-time\n",
    "    pb210_top_true = pb210_top - pb214_top\n",
    "    pb210_bot_true = pb210_bot - pb214_bot\n",
    "    depth = depth_bot - depth_top\n",
    "    pb210_diff = pb210_top_true - pb210_bot_true\n",
    "    age_diff = (T_05 * pb210_diff) / (0.69 * pb210_top_true)\n",
    "    dep_rate = depth / age_diff\n",
    "    return dep_rate\n",
    "\n",
    "deposition_rate(0.2007, 0.0063, 0.0304, 0.0008, (3+1.5)/2, (27+28.5)/2)\n",
    "((19.5+21)/2)/(2019-1963)\n"
   ]
  },
  {
   "cell_type": "code",
   "execution_count": null,
   "metadata": {},
   "outputs": [],
   "source": []
  }
 ],
 "metadata": {
  "kernelspec": {
   "display_name": "Python 3",
   "language": "python",
   "name": "python3"
  },
  "language_info": {
   "codemirror_mode": {
    "name": "ipython",
    "version": 3
   },
   "file_extension": ".py",
   "mimetype": "text/x-python",
   "name": "python",
   "nbconvert_exporter": "python",
   "pygments_lexer": "ipython3",
   "version": "3.7.3"
  }
 },
 "nbformat": 4,
 "nbformat_minor": 2
}

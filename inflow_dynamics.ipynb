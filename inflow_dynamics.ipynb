{
 "cells": [
  {
   "cell_type": "markdown",
   "metadata": {},
   "source": [
    "# Dynamics of the radioisotopes inflow into the lake Perstok"
   ]
  },
  {
   "cell_type": "code",
   "execution_count": 11,
   "metadata": {},
   "outputs": [
    {
     "data": {
      "application/vnd.jupyter.widget-view+json": {
       "model_id": "42452daf9ef24c22a74067314aa1e8c1",
       "version_major": 2,
       "version_minor": 0
      },
      "text/plain": [
       "HBox(children=(IntProgress(value=0, max=30), HTML(value='')))"
      ]
     },
     "metadata": {},
     "output_type": "display_data"
    },
    {
     "name": "stdout",
     "output_type": "stream",
     "text": [
      "\n"
     ]
    },
    {
     "data": {
      "text/html": [
       "<div>\n",
       "<style scoped>\n",
       "    .dataframe tbody tr th:only-of-type {\n",
       "        vertical-align: middle;\n",
       "    }\n",
       "\n",
       "    .dataframe tbody tr th {\n",
       "        vertical-align: top;\n",
       "    }\n",
       "\n",
       "    .dataframe thead th {\n",
       "        text-align: right;\n",
       "    }\n",
       "</style>\n",
       "<table border=\"1\" class=\"dataframe\">\n",
       "  <thead>\n",
       "    <tr style=\"text-align: right;\">\n",
       "      <th></th>\n",
       "      <th>year</th>\n",
       "      <th>solid_sediment_kg</th>\n",
       "      <th>solid_cs137_Bq</th>\n",
       "      <th>liquid_cs137_bq</th>\n",
       "      <th>solid_am241_bq</th>\n",
       "    </tr>\n",
       "  </thead>\n",
       "  <tbody>\n",
       "    <tr>\n",
       "      <th>0</th>\n",
       "      <td>1990.0</td>\n",
       "      <td>1717.833819</td>\n",
       "      <td>6.078819e+07</td>\n",
       "      <td>4.165339e+08</td>\n",
       "      <td>204287.926538</td>\n",
       "    </tr>\n",
       "    <tr>\n",
       "      <th>1</th>\n",
       "      <td>1990.0</td>\n",
       "      <td>1499.527865</td>\n",
       "      <td>5.292581e+07</td>\n",
       "      <td>1.705689e+08</td>\n",
       "      <td>178868.782301</td>\n",
       "    </tr>\n",
       "    <tr>\n",
       "      <th>2</th>\n",
       "      <td>1990.0</td>\n",
       "      <td>1407.130008</td>\n",
       "      <td>5.026522e+07</td>\n",
       "      <td>5.067771e+08</td>\n",
       "      <td>167266.755446</td>\n",
       "    </tr>\n",
       "    <tr>\n",
       "      <th>3</th>\n",
       "      <td>1990.0</td>\n",
       "      <td>1601.413068</td>\n",
       "      <td>5.599838e+07</td>\n",
       "      <td>1.215983e+08</td>\n",
       "      <td>185934.684673</td>\n",
       "    </tr>\n",
       "    <tr>\n",
       "      <th>4</th>\n",
       "      <td>1990.0</td>\n",
       "      <td>1129.048538</td>\n",
       "      <td>3.943317e+07</td>\n",
       "      <td>1.414916e+08</td>\n",
       "      <td>132664.714477</td>\n",
       "    </tr>\n",
       "  </tbody>\n",
       "</table>\n",
       "</div>"
      ],
      "text/plain": [
       "     year  solid_sediment_kg  solid_cs137_Bq  liquid_cs137_bq  solid_am241_bq\n",
       "0  1990.0        1717.833819    6.078819e+07     4.165339e+08   204287.926538\n",
       "1  1990.0        1499.527865    5.292581e+07     1.705689e+08   178868.782301\n",
       "2  1990.0        1407.130008    5.026522e+07     5.067771e+08   167266.755446\n",
       "3  1990.0        1601.413068    5.599838e+07     1.215983e+08   185934.684673\n",
       "4  1990.0        1129.048538    3.943317e+07     1.414916e+08   132664.714477"
      ]
     },
     "execution_count": 11,
     "metadata": {},
     "output_type": "execute_result"
    }
   ],
   "source": [
    "import numpy as np\n",
    "import pandas as pd\n",
    "from matplotlib import pyplot as plt\n",
    "import seaborn as sns\n",
    "from tqdm import tqdm_notebook\n",
    "from model import *\n",
    "\n",
    "datafile = 'perstok_data2.csv'\n",
    "outfile = 'perstok_new.csv'\n",
    "period = 10\n",
    "n_iterations = 250\n",
    "data = np.array([])\n",
    "for year in tqdm_notebook(range(4, 153, 5)):\n",
    "  for i in range(n_iterations):\n",
    "    catchment = CatchmentArea(datafile=datafile)\n",
    "    result = catchment.many_iterations(year, outfil=False, cumulative=False)\n",
    "    result = np.append(np.array([year+1986]).reshape(1,1), np.array(result).reshape(1, -1), axis = 1)\n",
    "    try:\n",
    "      data = np.append(data, result, axis=0)\n",
    "    except:\n",
    "      data = result\n",
    "dataframe = pd.DataFrame(data, columns=['year', \n",
    "                                        'solid_sediment_kg', \n",
    "                                        'solid_cs137_Bq', \n",
    "                                        'liquid_cs137_bq', \n",
    "                                        'solid_am241_bq'])\n",
    "dataframe.head()"
   ]
  },
  {
   "cell_type": "code",
   "execution_count": null,
   "metadata": {},
   "outputs": [],
   "source": [
    "from matplotlib import pyplot as plt\n",
    "import seaborn as sns\n",
    "plt.figure(figsize=(8,6))\n",
    "\n",
    "grouped = dataframe.groupby('year').agg(['mean', 'std'])\n",
    "\n",
    "plt.plot(grouped.index, grouped['liquid_cs137_bq']['mean'], color='g', ls='-.', label='$^{137}Cs_{liquid}$')\n",
    "plt.fill_between(grouped.index, \n",
    "                 grouped['liquid_cs137_bq']['mean']+grouped['liquid_cs137_bq']['std']*0.7,\n",
    "                 grouped['liquid_cs137_bq']['mean']-grouped['liquid_cs137_bq']['std']*0.7,\n",
    "                 alpha=0.1, color='g')\n",
    "\n",
    "plt.plot(grouped.index, grouped['solid_cs137_Bq']['mean'], color='b', ls=':', label='$^{137}Cs_{sediments}$')\n",
    "plt.fill_between(grouped.index, \n",
    "                 grouped['solid_cs137_Bq']['mean']+grouped['solid_cs137_Bq']['std']*2,\n",
    "                 grouped['solid_cs137_Bq']['mean']-grouped['solid_cs137_Bq']['std']*2,\n",
    "                 alpha=0.1, color='b')\n",
    "\n",
    "plt.plot(grouped.index, grouped['solid_am241_bq']['mean'], color='r', label='$^{241}Am_{sediments}$')\n",
    "plt.fill_between(grouped.index, \n",
    "                 grouped['solid_am241_bq']['mean']+grouped['solid_am241_bq']['std']*2,\n",
    "                 grouped['solid_am241_bq']['mean']-grouped['solid_am241_bq']['std']*2,\n",
    "                 alpha=0.1, color='r')\n",
    "\n",
    "plt.yscale(\"log\")\n",
    "plt.xlabel(\"year\")\n",
    "plt.ylabel(\"Bq/year\")\n",
    "plt.title(\"Inflow of the radioisotopes with sediments\\nand liquid flow into the lake Perstok\")\n",
    "plt.legend()\n",
    "plt.show()"
   ]
  },
  {
   "cell_type": "markdown",
   "metadata": {},
   "source": [
    "Выполнен анализ изменения в долгосрочной перспективе поступления $^{137}Cs$ в твердой и жидкой фазе и $^{241}Am$ в твердой фазе в оз. Персток с территории водосбора. В период отдаленных радиоэкологических последствий катастрофы на Чернобыльской АЭС изменения в поступлении радиоизотопов в замкнутый водоем обусловлены главным образом двумя факторами -- уменьшением их запасов вследствие радиоактивного распада и вертикальной миграции в слои почвы слабо подверженные дефляционным процессам и выщелачиванию. Известно, что оба этих процесса имеют экспоненциальный характер изменения во времени, что и обуславливает характерную форму кривых, представленных на графике.\n",
    "\n",
    "На протяжение всего прогнозного период (до 2140 г.) сохраняется наблюдаемое в настоящее время распределение вклада различных составляющих в изменение загрязнения водной экосистемы долгоживущими радионуклидами. При этом годовое поступление $^{137}Cs$ постоянно снижается. Изменение поступления $^{137}Cs$ в твердой фазе близко к экспоненциальному (на графике с осью ординат, выраженной в логарифмическом масштабе оно представлено практически прямой линией). За один период полураспада $^{137}Cs$ уменьшение годового поступления данного радиоизотопа в твердой фазе в замкнутый водоем составляет почти 80%, что указывает на высокий вклад процессов вертикального перраспределения.\n",
    "\n",
    "Темпы снижения поступления $^{137}Cs$ в жидкой фазе несколько более высокие, по сравнению с твердой фазе. Постепенно вклад обоих этих компонент сближается. В ближайшие 30 лет годовое поступление $^{137}Cs$ в жидкой фазе в замкнутый водоем снизится почти на 87% -- с 29 до 4 МБк. В дальнейшем эта цифра несколько уменьшается, но остается в пределах 74%.\n",
    "\n",
    "Поступление $^{241}Am$ имеет максимум, приходящийся на начало 2000-х гг., что объясняется увеличением его запасов в водосборе из-за радиоактивного распада материнского радиоизотопа -- $^{241}Pu$. В последующем происходит постепенное падение величины годового поступления $^{241}Am$ в озеро, но замедление происходит более низкими темпами по сравнению с $^{137}Cs$. Это объясняется продолжением образования $^{241}Am$ из материнского радиоизотопа и более продолжительным периодом полураспада. В ближайшие 30 лет годовое поступление $^{241}Am$ в замкнутый водоем упадет на 58%, что гораздо больше, чем можно было бы ожидать, отталкиваясь только от радиоактивного распада данного изотопа."
   ]
  },
  {
   "cell_type": "markdown",
   "metadata": {},
   "source": [
    "# Dynamics of long-lived radioisotopes in bottom sediments of the lake Perstok"
   ]
  },
  {
   "cell_type": "code",
   "execution_count": null,
   "metadata": {},
   "outputs": [
    {
     "data": {
      "application/vnd.jupyter.widget-view+json": {
       "model_id": "904a694ce2254148bdefd9906004f338",
       "version_major": 2,
       "version_minor": 0
      },
      "text/plain": [
       "HBox(children=(IntProgress(value=0, max=34), HTML(value='')))"
      ]
     },
     "metadata": {},
     "output_type": "display_data"
    }
   ],
   "source": [
    "data_c = np.array([])\n",
    "for year in tqdm_notebook(range(4, 170, 5)):\n",
    "  for i in range(n_iterations):\n",
    "    catchment = CatchmentArea(datafile=datafile)\n",
    "    result = catchment.many_iterations(year, outfil=False, cumulative=True)\n",
    "    result = np.append(np.array([year+1986]).reshape(1,1), np.array(result).reshape(1, -1), axis = 1)\n",
    "    try:\n",
    "      data_c = np.append(data_c, result, axis=0)\n",
    "    except:\n",
    "      data_c = result\n",
    "dataframe_c = pd.DataFrame(data_c, columns=['year', 'solid_sediment_kg', 'solid_cs137_Bq', 'liquid_cs137_bq', 'solid_am241_bq'])\n",
    "dataframe_c.head()"
   ]
  },
  {
   "cell_type": "code",
   "execution_count": null,
   "metadata": {},
   "outputs": [],
   "source": [
    "plt.figure(figsize=(8,6))\n",
    "\n",
    "grouped_c = dataframe_c[dataframe_c['year'] < 2135].groupby('year').agg(['mean', 'std'])\n",
    "\n",
    "plt.plot(grouped_c.index, grouped_c['liquid_cs137_bq']['mean'] + grouped_c['solid_cs137_Bq']['mean'], \n",
    "         color='g', ls='-.', label='$^{137}Cs$')\n",
    "plt.fill_between(grouped_c.index, \n",
    "                 grouped_c['liquid_cs137_bq']['mean'] + grouped_c['solid_cs137_Bq']['mean'] + grouped_c['liquid_cs137_bq']['std']*2 + grouped_c['solid_cs137_Bq']['std']*2,\n",
    "                 grouped_c['liquid_cs137_bq']['mean'] + grouped_c['solid_cs137_Bq']['mean'] - grouped_c['liquid_cs137_bq']['std']*2 - grouped_c['solid_cs137_Bq']['std']*2,\n",
    "                 alpha=0.1, color='g')\n",
    "\n",
    "plt.plot(grouped_c.index, grouped_c['solid_am241_bq']['mean'], color='r', label='$^{241}Am$')\n",
    "plt.fill_between(grouped_c.index, \n",
    "                 grouped_c['solid_am241_bq']['mean']+grouped_c['solid_am241_bq']['std']*2,\n",
    "                 grouped_c['solid_am241_bq']['mean']-grouped_c['solid_am241_bq']['std']*2,\n",
    "                 alpha=0.1, color='r')\n",
    "\n",
    "plt.yscale(\"log\")\n",
    "plt.xlabel(\"год\")\n",
    "plt.ylabel(\"Бк\")\n",
    "plt.title(\"Stock of the radioisotopes in the lake Perstok\")\n",
    "plt.legend()\n",
    "plt.show()"
   ]
  },
  {
   "cell_type": "markdown",
   "metadata": {},
   "source": [
    "Основной запас $^{137}Cs$ и $^{241}Am$ в замкнутых водоемах сосредоточен в донных отложениях. Согласно оценке, полученной при выполнении данного задания, вклад донных отложений оз. Персток в общий запас этих радиоизотопов в водоеме составляет около 99%. Концентрация радиоизотпов в водной среде определяется двумя факторами:\n",
    "1. соотношением между скоростью смыва с территории водосбора и скоростью осаждения;\n",
    "2. константой динамического равновесия между донными отложениями и водной фазой.\n",
    "Переход радиоизотопов по пищевым цепям в замкнутом водоеме зависит как от их содержания в водной среде, так и в донных отложениях. Таким образом, запас радиоизотопов в донных отложениях замкнутых водоемов играет определяющую роль в радиоэкологической ситуации.\n",
    "\n",
    "На рисунке представлен прогноз изменения запаса $^{137}Cs$ и $^{241}Am$ в донных отложениях оз. Персток с учетом выпадений в острой фазе аварии на Чернобыльской АЭС. Несмотря на постоянное поступление $^{137}Cs$ в водоем, его запас экспоненциально уменьшается (ось ординат представлена в логарифмическом масштабе), так как скорость радиоактивного распада значительно превышает скорость поступления радиоизотопа в твердой и жидкой фазах. Так как поступающая за год активность $^{137}Cs$ более чем на два порядка величины ниже запаса радиоизотопа в донных отложениях, темп уменьшения его запаса практически полностью определяется радиоактивным распадом.\n",
    "\n",
    "Несколько иная ситуация наблюдается в отношении $^{241}Am$. Период полураспада данного радиоизотопа составляет 432 года, а в первые десятилетия после аварии его запас пополняется за счет радиоактивного распада материнского радиоизотопа -- $^{241}Pu$. Это объясняет быстрые темпы увеличения активности $^{241}Am$ в водоеме в первые десятиления. К 2040--2060 гг. активность радиоизотопа в донных отложениях оз. Персток достигнет максимального значения -- около 9,7 ГБк, после чего начнет очень медленно снижаться. В этот период радиоактивный распад $^{241}Am$ будет в значительной мере компенсироваться его поступлением с территории водосбора. Интересно отметить, что приблизительно к 2150 году (через 160 лет после аварии на Чернобыльской АЭС) активность $^{137}Cs$ в оз. Персток станет ниже активности $^{241}Pu$."
   ]
  },
  {
   "cell_type": "code",
   "execution_count": null,
   "metadata": {},
   "outputs": [],
   "source": []
  }
 ],
 "metadata": {
  "kernelspec": {
   "display_name": "Python 3",
   "language": "python",
   "name": "python3"
  },
  "language_info": {
   "codemirror_mode": {
    "name": "ipython",
    "version": 3
   },
   "file_extension": ".py",
   "mimetype": "text/x-python",
   "name": "python",
   "nbconvert_exporter": "python",
   "pygments_lexer": "ipython3",
   "version": "3.7.3"
  }
 },
 "nbformat": 4,
 "nbformat_minor": 2
}

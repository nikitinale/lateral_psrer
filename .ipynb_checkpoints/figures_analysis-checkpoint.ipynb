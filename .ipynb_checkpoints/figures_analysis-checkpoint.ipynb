{
 "cells": [
  {
   "cell_type": "code",
   "execution_count": 561,
   "metadata": {},
   "outputs": [],
   "source": [
    "import numpy as np\n",
    "import pandas as pd\n",
    "import seaborn as sns\n",
    "from matplotlib import pyplot as plt"
   ]
  },
  {
   "cell_type": "code",
   "execution_count": 732,
   "metadata": {},
   "outputs": [
    {
     "name": "stdout",
     "output_type": "stream",
     "text": [
      "5\r\n"
     ]
    }
   ],
   "source": [
    "! python3 model.py 5 1000"
   ]
  },
  {
   "cell_type": "code",
   "execution_count": 733,
   "metadata": {},
   "outputs": [
    {
     "data": {
      "text/html": [
       "<div>\n",
       "<style scoped>\n",
       "    .dataframe tbody tr th:only-of-type {\n",
       "        vertical-align: middle;\n",
       "    }\n",
       "\n",
       "    .dataframe tbody tr th {\n",
       "        vertical-align: top;\n",
       "    }\n",
       "\n",
       "    .dataframe thead th {\n",
       "        text-align: right;\n",
       "    }\n",
       "</style>\n",
       "<table border=\"1\" class=\"dataframe\">\n",
       "  <thead>\n",
       "    <tr style=\"text-align: right;\">\n",
       "      <th></th>\n",
       "      <th>solid_sediment_kg</th>\n",
       "      <th>solid_cs137_Bq</th>\n",
       "      <th>liquid_cs137_bq</th>\n",
       "      <th>solid_am241_bq</th>\n",
       "      <th>cs137_total</th>\n",
       "      <th>cs137_liquid_share</th>\n",
       "      <th>SA_sed</th>\n",
       "    </tr>\n",
       "    <tr>\n",
       "      <th>iteration</th>\n",
       "      <th></th>\n",
       "      <th></th>\n",
       "      <th></th>\n",
       "      <th></th>\n",
       "      <th></th>\n",
       "      <th></th>\n",
       "      <th></th>\n",
       "    </tr>\n",
       "  </thead>\n",
       "  <tbody>\n",
       "    <tr>\n",
       "      <th>4</th>\n",
       "      <td>338.7</td>\n",
       "      <td>46800000.0</td>\n",
       "      <td>7330000.0</td>\n",
       "      <td>2.590000e+10</td>\n",
       "      <td>54130000.0</td>\n",
       "      <td>13.541474</td>\n",
       "      <td>138175.376439</td>\n",
       "    </tr>\n",
       "    <tr>\n",
       "      <th>4</th>\n",
       "      <td>370.1</td>\n",
       "      <td>53400000.0</td>\n",
       "      <td>80800000.0</td>\n",
       "      <td>2.740000e+10</td>\n",
       "      <td>134200000.0</td>\n",
       "      <td>60.208644</td>\n",
       "      <td>144285.328290</td>\n",
       "    </tr>\n",
       "    <tr>\n",
       "      <th>4</th>\n",
       "      <td>418.1</td>\n",
       "      <td>60100000.0</td>\n",
       "      <td>29800000.0</td>\n",
       "      <td>3.340000e+10</td>\n",
       "      <td>89900000.0</td>\n",
       "      <td>33.147942</td>\n",
       "      <td>143745.515427</td>\n",
       "    </tr>\n",
       "    <tr>\n",
       "      <th>4</th>\n",
       "      <td>396.4</td>\n",
       "      <td>54900000.0</td>\n",
       "      <td>261000000.0</td>\n",
       "      <td>2.950000e+10</td>\n",
       "      <td>315900000.0</td>\n",
       "      <td>82.621083</td>\n",
       "      <td>138496.468214</td>\n",
       "    </tr>\n",
       "    <tr>\n",
       "      <th>4</th>\n",
       "      <td>362.5</td>\n",
       "      <td>50700000.0</td>\n",
       "      <td>36000000.0</td>\n",
       "      <td>2.930000e+10</td>\n",
       "      <td>86700000.0</td>\n",
       "      <td>41.522491</td>\n",
       "      <td>139862.068966</td>\n",
       "    </tr>\n",
       "    <tr>\n",
       "      <th>4</th>\n",
       "      <td>345.7</td>\n",
       "      <td>50100000.0</td>\n",
       "      <td>54200000.0</td>\n",
       "      <td>2.590000e+10</td>\n",
       "      <td>104300000.0</td>\n",
       "      <td>51.965484</td>\n",
       "      <td>144923.343940</td>\n",
       "    </tr>\n",
       "    <tr>\n",
       "      <th>4</th>\n",
       "      <td>389.7</td>\n",
       "      <td>55500000.0</td>\n",
       "      <td>147000000.0</td>\n",
       "      <td>2.690000e+10</td>\n",
       "      <td>202500000.0</td>\n",
       "      <td>72.592593</td>\n",
       "      <td>142417.244034</td>\n",
       "    </tr>\n",
       "    <tr>\n",
       "      <th>4</th>\n",
       "      <td>281.8</td>\n",
       "      <td>41000000.0</td>\n",
       "      <td>137000000.0</td>\n",
       "      <td>2.100000e+10</td>\n",
       "      <td>178000000.0</td>\n",
       "      <td>76.966292</td>\n",
       "      <td>145493.257630</td>\n",
       "    </tr>\n",
       "    <tr>\n",
       "      <th>4</th>\n",
       "      <td>289.1</td>\n",
       "      <td>44800000.0</td>\n",
       "      <td>36500000.0</td>\n",
       "      <td>2.280000e+10</td>\n",
       "      <td>81300000.0</td>\n",
       "      <td>44.895449</td>\n",
       "      <td>154963.680387</td>\n",
       "    </tr>\n",
       "    <tr>\n",
       "      <th>4</th>\n",
       "      <td>397.8</td>\n",
       "      <td>53200000.0</td>\n",
       "      <td>185000000.0</td>\n",
       "      <td>3.070000e+10</td>\n",
       "      <td>238200000.0</td>\n",
       "      <td>77.665827</td>\n",
       "      <td>133735.545500</td>\n",
       "    </tr>\n",
       "  </tbody>\n",
       "</table>\n",
       "</div>"
      ],
      "text/plain": [
       "           solid_sediment_kg  solid_cs137_Bq  liquid_cs137_bq  solid_am241_bq  \\\n",
       "iteration                                                                       \n",
       "4                      338.7      46800000.0        7330000.0    2.590000e+10   \n",
       "4                      370.1      53400000.0       80800000.0    2.740000e+10   \n",
       "4                      418.1      60100000.0       29800000.0    3.340000e+10   \n",
       "4                      396.4      54900000.0      261000000.0    2.950000e+10   \n",
       "4                      362.5      50700000.0       36000000.0    2.930000e+10   \n",
       "4                      345.7      50100000.0       54200000.0    2.590000e+10   \n",
       "4                      389.7      55500000.0      147000000.0    2.690000e+10   \n",
       "4                      281.8      41000000.0      137000000.0    2.100000e+10   \n",
       "4                      289.1      44800000.0       36500000.0    2.280000e+10   \n",
       "4                      397.8      53200000.0      185000000.0    3.070000e+10   \n",
       "\n",
       "           cs137_total  cs137_liquid_share         SA_sed  \n",
       "iteration                                                  \n",
       "4           54130000.0           13.541474  138175.376439  \n",
       "4          134200000.0           60.208644  144285.328290  \n",
       "4           89900000.0           33.147942  143745.515427  \n",
       "4          315900000.0           82.621083  138496.468214  \n",
       "4           86700000.0           41.522491  139862.068966  \n",
       "4          104300000.0           51.965484  144923.343940  \n",
       "4          202500000.0           72.592593  142417.244034  \n",
       "4          178000000.0           76.966292  145493.257630  \n",
       "4           81300000.0           44.895449  154963.680387  \n",
       "4          238200000.0           77.665827  133735.545500  "
      ]
     },
     "execution_count": 733,
     "metadata": {},
     "output_type": "execute_result"
    }
   ],
   "source": [
    "data = pd.read_csv('perstok_inflow_m_year_new.csv', index_col='iteration')\n",
    "data['cs137_total'] = data['solid_cs137_Bq'] + data['liquid_cs137_bq']\n",
    "data['cs137_liquid_share'] = 100*data['liquid_cs137_bq']/data['cs137_total']\n",
    "data['SA_sed'] = data['solid_cs137_Bq'] / data['solid_sediment_kg']\n",
    "data.head(10)"
   ]
  },
  {
   "cell_type": "code",
   "execution_count": 734,
   "metadata": {},
   "outputs": [
    {
     "data": {
      "text/plain": [
       "Text(0, 0.5, 'p')"
      ]
     },
     "execution_count": 734,
     "metadata": {},
     "output_type": "execute_result"
    },
    {
     "data": {
      "image/png": "[encoded data removed]",
      "text/plain": [
       "<Figure size 432x288 with 1 Axes>"
      ]
     },
     "metadata": {
      "needs_background": "light"
     },
     "output_type": "display_data"
    }
   ],
   "source": [
    "plt.figure(figsize=(6, 4))\n",
    "sns.kdeplot(data=data['solid_sediment_kg'], shade=True, legend=False)\n",
    "plt.xlabel('Твердый сток, кг')\n",
    "plt.ylabel('p')"
   ]
  },
  {
   "cell_type": "code",
   "execution_count": 735,
   "metadata": {},
   "outputs": [
    {
     "data": {
      "text/plain": [
       "<Figure size 432x288 with 0 Axes>"
      ]
     },
     "execution_count": 735,
     "metadata": {},
     "output_type": "execute_result"
    },
    {
     "data": {
      "text/plain": [
       "<Figure size 432x288 with 0 Axes>"
      ]
     },
     "metadata": {},
     "output_type": "display_data"
    }
   ],
   "source": [
    "plt.figure(figsize=(6, 4))"
   ]
  },
  {
   "cell_type": "code",
   "execution_count": 736,
   "metadata": {},
   "outputs": [
    {
     "data": {
      "text/plain": [
       "Text(0.5, 0, 'Поступление $^{137}Cs$ с твердым стоком, Бк')"
      ]
     },
     "execution_count": 736,
     "metadata": {},
     "output_type": "execute_result"
    },
    {
     "data": {
      "image/png": "[encoded data removed]",
      "text/plain": [
       "<Figure size 432x288 with 1 Axes>"
      ]
     },
     "metadata": {
      "needs_background": "light"
     },
     "output_type": "display_data"
    }
   ],
   "source": [
    "plt.figure(figsize=(6, 4))\n",
    "sns.kdeplot(data=data['solid_cs137_Bq'], shade=True, legend=False)\n",
    "#plt.axes(0,1e7,0,8e-7)\n",
    "plt.ylabel('p')\n",
    "plt.xlabel('Поступление $^{137}Cs$ с твердым стоком, Бк')"
   ]
  },
  {
   "cell_type": "code",
   "execution_count": 737,
   "metadata": {},
   "outputs": [
    {
     "data": {
      "text/plain": [
       "Text(0.5, 0, 'Поступление $^{137}Cs$ с жидким стоком, Бк')"
      ]
     },
     "execution_count": 737,
     "metadata": {},
     "output_type": "execute_result"
    },
    {
     "data": {
      "image/png": "[encoded data removed]",
      "text/plain": [
       "<Figure size 432x288 with 1 Axes>"
      ]
     },
     "metadata": {
      "needs_background": "light"
     },
     "output_type": "display_data"
    }
   ],
   "source": [
    "plt.figure(figsize=(6, 4))\n",
    "sns.kdeplot(data=data['liquid_cs137_bq'], shade=True, legend=False)\n",
    "plt.ylabel('p')\n",
    "plt.xlabel('Поступление $^{137}Cs$ с жидким стоком, Бк')"
   ]
  },
  {
   "cell_type": "code",
   "execution_count": 738,
   "metadata": {},
   "outputs": [
    {
     "data": {
      "text/plain": [
       "Text(0.5, 0, 'Общее поступление $^{137}Cs$, Бк')"
      ]
     },
     "execution_count": 738,
     "metadata": {},
     "output_type": "execute_result"
    },
    {
     "data": {
      "image/png": "[encoded data removed]",
      "text/plain": [
       "<Figure size 432x288 with 1 Axes>"
      ]
     },
     "metadata": {
      "needs_background": "light"
     },
     "output_type": "display_data"
    }
   ],
   "source": [
    "plt.figure(figsize=(6, 4))\n",
    "sns.kdeplot(data=data['cs137_total'], shade=True, legend=False)\n",
    "plt.ylabel('p')\n",
    "plt.xlabel('Общее поступление $^{137}Cs$, Бк')"
   ]
  },
  {
   "cell_type": "code",
   "execution_count": 739,
   "metadata": {},
   "outputs": [
    {
     "data": {
      "text/plain": [
       "Text(0.5, 0, 'Поступление $^{241}Am$ с твердым стоком, Бк')"
      ]
     },
     "execution_count": 739,
     "metadata": {},
     "output_type": "execute_result"
    },
    {
     "data": {
      "image/png": "[encoded data removed]",
      "text/plain": [
       "<Figure size 432x288 with 1 Axes>"
      ]
     },
     "metadata": {
      "needs_background": "light"
     },
     "output_type": "display_data"
    }
   ],
   "source": [
    "plt.figure(figsize=(6, 4))\n",
    "sns.kdeplot(data=data['solid_am241_bq'], shade=True, legend=False)\n",
    "plt.ylabel('p')\n",
    "plt.xlabel('Поступление $^{241}Am$ с твердым стоком, Бк')"
   ]
  },
  {
   "cell_type": "code",
   "execution_count": 740,
   "metadata": {},
   "outputs": [
    {
     "data": {
      "text/html": [
       "<div>\n",
       "<style scoped>\n",
       "    .dataframe tbody tr th:only-of-type {\n",
       "        vertical-align: middle;\n",
       "    }\n",
       "\n",
       "    .dataframe tbody tr th {\n",
       "        vertical-align: top;\n",
       "    }\n",
       "\n",
       "    .dataframe thead th {\n",
       "        text-align: right;\n",
       "    }\n",
       "</style>\n",
       "<table border=\"1\" class=\"dataframe\">\n",
       "  <thead>\n",
       "    <tr style=\"text-align: right;\">\n",
       "      <th></th>\n",
       "      <th>solid_sediment_kg</th>\n",
       "      <th>solid_cs137_Bq</th>\n",
       "      <th>liquid_cs137_bq</th>\n",
       "      <th>solid_am241_bq</th>\n",
       "      <th>cs137_total</th>\n",
       "      <th>cs137_liquid_share</th>\n",
       "      <th>SA_sed</th>\n",
       "    </tr>\n",
       "  </thead>\n",
       "  <tbody>\n",
       "    <tr>\n",
       "      <th>count</th>\n",
       "      <td>1000.000000</td>\n",
       "      <td>1.000000e+03</td>\n",
       "      <td>1.000000e+03</td>\n",
       "      <td>1.000000e+03</td>\n",
       "      <td>1.000000e+03</td>\n",
       "      <td>1000.000000</td>\n",
       "      <td>1000.000000</td>\n",
       "    </tr>\n",
       "    <tr>\n",
       "      <th>mean</th>\n",
       "      <td>359.145900</td>\n",
       "      <td>5.196840e+07</td>\n",
       "      <td>8.718327e+07</td>\n",
       "      <td>2.719290e+10</td>\n",
       "      <td>1.391517e+08</td>\n",
       "      <td>54.107369</td>\n",
       "      <td>144803.710405</td>\n",
       "    </tr>\n",
       "    <tr>\n",
       "      <th>std</th>\n",
       "      <td>51.835551</td>\n",
       "      <td>7.451342e+06</td>\n",
       "      <td>6.977978e+07</td>\n",
       "      <td>4.309537e+09</td>\n",
       "      <td>7.029612e+07</td>\n",
       "      <td>20.195539</td>\n",
       "      <td>4750.990357</td>\n",
       "    </tr>\n",
       "    <tr>\n",
       "      <th>min</th>\n",
       "      <td>215.600000</td>\n",
       "      <td>3.140000e+07</td>\n",
       "      <td>0.000000e+00</td>\n",
       "      <td>1.590000e+10</td>\n",
       "      <td>4.116000e+07</td>\n",
       "      <td>0.000000</td>\n",
       "      <td>130841.121495</td>\n",
       "    </tr>\n",
       "    <tr>\n",
       "      <th>25%</th>\n",
       "      <td>322.075000</td>\n",
       "      <td>4.667500e+07</td>\n",
       "      <td>3.600000e+07</td>\n",
       "      <td>2.420000e+10</td>\n",
       "      <td>8.677500e+07</td>\n",
       "      <td>41.158107</td>\n",
       "      <td>141579.616648</td>\n",
       "    </tr>\n",
       "    <tr>\n",
       "      <th>50%</th>\n",
       "      <td>357.200000</td>\n",
       "      <td>5.160000e+07</td>\n",
       "      <td>6.910000e+07</td>\n",
       "      <td>2.700000e+10</td>\n",
       "      <td>1.221000e+08</td>\n",
       "      <td>57.000697</td>\n",
       "      <td>144913.271161</td>\n",
       "    </tr>\n",
       "    <tr>\n",
       "      <th>75%</th>\n",
       "      <td>394.000000</td>\n",
       "      <td>5.690000e+07</td>\n",
       "      <td>1.212500e+08</td>\n",
       "      <td>3.020000e+10</td>\n",
       "      <td>1.712000e+08</td>\n",
       "      <td>70.091574</td>\n",
       "      <td>148113.068898</td>\n",
       "    </tr>\n",
       "    <tr>\n",
       "      <th>max</th>\n",
       "      <td>534.400000</td>\n",
       "      <td>7.640000e+07</td>\n",
       "      <td>4.410000e+08</td>\n",
       "      <td>4.080000e+10</td>\n",
       "      <td>4.956000e+08</td>\n",
       "      <td>91.177090</td>\n",
       "      <td>158319.870759</td>\n",
       "    </tr>\n",
       "  </tbody>\n",
       "</table>\n",
       "</div>"
      ],
      "text/plain": [
       "       solid_sediment_kg  solid_cs137_Bq  liquid_cs137_bq  solid_am241_bq  \\\n",
       "count        1000.000000    1.000000e+03     1.000000e+03    1.000000e+03   \n",
       "mean          359.145900    5.196840e+07     8.718327e+07    2.719290e+10   \n",
       "std            51.835551    7.451342e+06     6.977978e+07    4.309537e+09   \n",
       "min           215.600000    3.140000e+07     0.000000e+00    1.590000e+10   \n",
       "25%           322.075000    4.667500e+07     3.600000e+07    2.420000e+10   \n",
       "50%           357.200000    5.160000e+07     6.910000e+07    2.700000e+10   \n",
       "75%           394.000000    5.690000e+07     1.212500e+08    3.020000e+10   \n",
       "max           534.400000    7.640000e+07     4.410000e+08    4.080000e+10   \n",
       "\n",
       "        cs137_total  cs137_liquid_share         SA_sed  \n",
       "count  1.000000e+03         1000.000000    1000.000000  \n",
       "mean   1.391517e+08           54.107369  144803.710405  \n",
       "std    7.029612e+07           20.195539    4750.990357  \n",
       "min    4.116000e+07            0.000000  130841.121495  \n",
       "25%    8.677500e+07           41.158107  141579.616648  \n",
       "50%    1.221000e+08           57.000697  144913.271161  \n",
       "75%    1.712000e+08           70.091574  148113.068898  \n",
       "max    4.956000e+08           91.177090  158319.870759  "
      ]
     },
     "execution_count": 740,
     "metadata": {},
     "output_type": "execute_result"
    }
   ],
   "source": [
    "data.describe()"
   ]
  },
  {
   "cell_type": "code",
   "execution_count": 741,
   "metadata": {},
   "outputs": [
    {
     "data": {
      "text/plain": [
       "0.025      5780500.0\n",
       "0.975    261125000.0\n",
       "Name: liquid_cs137_bq, dtype: float64"
      ]
     },
     "execution_count": 741,
     "metadata": {},
     "output_type": "execute_result"
    }
   ],
   "source": [
    "data['liquid_cs137_bq'].quantile(q=[0.025,0.975])"
   ]
  },
  {
   "cell_type": "code",
   "execution_count": 731,
   "metadata": {},
   "outputs": [
    {
     "data": {
      "text/plain": [
       "0.025    40537500.0\n",
       "0.975    67302500.0\n",
       "Name: solid_cs137_Bq, dtype: float64"
      ]
     },
     "execution_count": 731,
     "metadata": {},
     "output_type": "execute_result"
    }
   ],
   "source": [
    "data['solid_cs137_Bq'].quantile(q=[0.025,0.975])"
   ]
  },
  {
   "cell_type": "code",
   "execution_count": 25,
   "metadata": {},
   "outputs": [
    {
     "data": {
      "text/plain": [
       "0.025     10280000.0\n",
       "0.975    377099250.0\n",
       "Name: cs137_total, dtype: float64"
      ]
     },
     "execution_count": 25,
     "metadata": {},
     "output_type": "execute_result"
    }
   ],
   "source": [
    "data['cs137_total'].quantile(q=[0.025,0.975])"
   ]
  },
  {
   "cell_type": "code",
   "execution_count": 26,
   "metadata": {},
   "outputs": [
    {
     "data": {
      "text/plain": [
       "0.025     88100.0\n",
       "0.975    157000.0\n",
       "Name: solid_am241_bq, dtype: float64"
      ]
     },
     "execution_count": 26,
     "metadata": {},
     "output_type": "execute_result"
    }
   ],
   "source": [
    "data['solid_am241_bq'].quantile(q=[0.025,0.975])"
   ]
  },
  {
   "cell_type": "code",
   "execution_count": 13,
   "metadata": {},
   "outputs": [
    {
     "data": {
      "text/html": [
       "<div>\n",
       "<style scoped>\n",
       "    .dataframe tbody tr th:only-of-type {\n",
       "        vertical-align: middle;\n",
       "    }\n",
       "\n",
       "    .dataframe tbody tr th {\n",
       "        vertical-align: top;\n",
       "    }\n",
       "\n",
       "    .dataframe thead th {\n",
       "        text-align: right;\n",
       "    }\n",
       "</style>\n",
       "<table border=\"1\" class=\"dataframe\">\n",
       "  <thead>\n",
       "    <tr style=\"text-align: right;\">\n",
       "      <th></th>\n",
       "      <th>Шифр</th>\n",
       "      <th>m</th>\n",
       "      <th>Cs-137 (Бк/пробу)</th>\n",
       "      <th>Unnamed: 3</th>\n",
       "      <th>Am-241 (Бк/пробу)</th>\n",
       "      <th>Unnamed: 5</th>\n",
       "      <th>Pb-210 (Бк/пробу)</th>\n",
       "      <th>Unnamed: 7</th>\n",
       "      <th>Pb-214(Бк/пробу)</th>\n",
       "      <th>Unnamed: 9</th>\n",
       "      <th>...</th>\n",
       "      <th>Unnamed: 21</th>\n",
       "      <th>Cs-137, Бк/м2</th>\n",
       "      <th>Am-241, Бк/м2</th>\n",
       "      <th>Pb-210, Бк/м2</th>\n",
       "      <th>Pb-214, Бк/м2</th>\n",
       "      <th>Unnamed: 26</th>\n",
       "      <th>Cs-137 err</th>\n",
       "      <th>Am-241 err</th>\n",
       "      <th>Pb-210 err</th>\n",
       "      <th>Pr-214 err</th>\n",
       "    </tr>\n",
       "  </thead>\n",
       "  <tbody>\n",
       "    <tr>\n",
       "      <th>0</th>\n",
       "      <td>NaN</td>\n",
       "      <td>NaN</td>\n",
       "      <td>УА</td>\n",
       "      <td>%</td>\n",
       "      <td>УА</td>\n",
       "      <td>%</td>\n",
       "      <td>УА</td>\n",
       "      <td>%</td>\n",
       "      <td>УА</td>\n",
       "      <td>%</td>\n",
       "      <td>...</td>\n",
       "      <td>NaN</td>\n",
       "      <td>NaN</td>\n",
       "      <td>NaN</td>\n",
       "      <td>NaN</td>\n",
       "      <td>NaN</td>\n",
       "      <td>NaN</td>\n",
       "      <td>NaN</td>\n",
       "      <td>NaN</td>\n",
       "      <td>NaN</td>\n",
       "      <td>NaN</td>\n",
       "    </tr>\n",
       "    <tr>\n",
       "      <th>1</th>\n",
       "      <td>Perstok 0-1,5</td>\n",
       "      <td>0.00381</td>\n",
       "      <td>222,12</td>\n",
       "      <td>11,89</td>\n",
       "      <td>3,43</td>\n",
       "      <td>0,21</td>\n",
       "      <td>0,618</td>\n",
       "      <td>0,215</td>\n",
       "      <td>-0,0514</td>\n",
       "      <td>0,051</td>\n",
       "      <td>...</td>\n",
       "      <td>NaN</td>\n",
       "      <td>113182.165605</td>\n",
       "      <td>1747.770701</td>\n",
       "      <td>314.904459</td>\n",
       "      <td>-26.191083</td>\n",
       "      <td>NaN</td>\n",
       "      <td>3120.73</td>\n",
       "      <td>55.12</td>\n",
       "      <td>0.056430</td>\n",
       "      <td>0.013386</td>\n",
       "    </tr>\n",
       "    <tr>\n",
       "      <th>2</th>\n",
       "      <td>Perstok 1,5-3</td>\n",
       "      <td>0.00472</td>\n",
       "      <td>316,99</td>\n",
       "      <td>16,91</td>\n",
       "      <td>5,856</td>\n",
       "      <td>0,365</td>\n",
       "      <td>0,9472</td>\n",
       "      <td>0,4325</td>\n",
       "      <td>0,0296</td>\n",
       "      <td>0,1152</td>\n",
       "      <td>...</td>\n",
       "      <td>NaN</td>\n",
       "      <td>161523.566879</td>\n",
       "      <td>2983.949045</td>\n",
       "      <td>482.649682</td>\n",
       "      <td>15.082803</td>\n",
       "      <td>NaN</td>\n",
       "      <td>3582.63</td>\n",
       "      <td>77.33</td>\n",
       "      <td>0.091631</td>\n",
       "      <td>0.024407</td>\n",
       "    </tr>\n",
       "    <tr>\n",
       "      <th>3</th>\n",
       "      <td>Perstok 3-4,5</td>\n",
       "      <td>0.00299</td>\n",
       "      <td>175,95</td>\n",
       "      <td>9,42</td>\n",
       "      <td>3,75</td>\n",
       "      <td>0,23</td>\n",
       "      <td>0,0185</td>\n",
       "      <td>0,133</td>\n",
       "      <td>0,0969</td>\n",
       "      <td>0,0361</td>\n",
       "      <td>...</td>\n",
       "      <td>NaN</td>\n",
       "      <td>89656.050955</td>\n",
       "      <td>1910.828025</td>\n",
       "      <td>9.426752</td>\n",
       "      <td>49.375796</td>\n",
       "      <td>NaN</td>\n",
       "      <td>3150.50</td>\n",
       "      <td>76.92</td>\n",
       "      <td>0.044482</td>\n",
       "      <td>0.012074</td>\n",
       "    </tr>\n",
       "    <tr>\n",
       "      <th>4</th>\n",
       "      <td>Perstok 4,5-6</td>\n",
       "      <td>0.00265</td>\n",
       "      <td>167,7</td>\n",
       "      <td>8,96</td>\n",
       "      <td>3,787</td>\n",
       "      <td>0,233</td>\n",
       "      <td>0,5139</td>\n",
       "      <td>0,1709</td>\n",
       "      <td>-0,0554</td>\n",
       "      <td>0,0513</td>\n",
       "      <td>...</td>\n",
       "      <td>NaN</td>\n",
       "      <td>85452.229299</td>\n",
       "      <td>1929.681529</td>\n",
       "      <td>261.859873</td>\n",
       "      <td>-28.229299</td>\n",
       "      <td>NaN</td>\n",
       "      <td>3381.13</td>\n",
       "      <td>87.92</td>\n",
       "      <td>0.064491</td>\n",
       "      <td>0.019358</td>\n",
       "    </tr>\n",
       "  </tbody>\n",
       "</table>\n",
       "<p>5 rows × 31 columns</p>\n",
       "</div>"
      ],
      "text/plain": [
       "            Шифр        m Cs-137 (Бк/пробу) Unnamed: 3 Am-241 (Бк/пробу)  \\\n",
       "0            NaN      NaN                УА          %                УА   \n",
       "1  Perstok 0-1,5  0.00381            222,12      11,89              3,43   \n",
       "2  Perstok 1,5-3  0.00472            316,99      16,91             5,856   \n",
       "3  Perstok 3-4,5  0.00299            175,95       9,42              3,75   \n",
       "4  Perstok 4,5-6  0.00265             167,7       8,96             3,787   \n",
       "\n",
       "  Unnamed: 5 Pb-210 (Бк/пробу) Unnamed: 7 Pb-214(Бк/пробу) Unnamed: 9  ...  \\\n",
       "0          %                УА          %               УА          %  ...   \n",
       "1       0,21             0,618      0,215          -0,0514      0,051  ...   \n",
       "2      0,365            0,9472     0,4325           0,0296     0,1152  ...   \n",
       "3       0,23            0,0185      0,133           0,0969     0,0361  ...   \n",
       "4      0,233            0,5139     0,1709          -0,0554     0,0513  ...   \n",
       "\n",
       "  Unnamed: 21  Cs-137, Бк/м2 Am-241, Бк/м2 Pb-210, Бк/м2 Pb-214, Бк/м2  \\\n",
       "0         NaN            NaN           NaN           NaN           NaN   \n",
       "1         NaN  113182.165605   1747.770701    314.904459    -26.191083   \n",
       "2         NaN  161523.566879   2983.949045    482.649682     15.082803   \n",
       "3         NaN   89656.050955   1910.828025      9.426752     49.375796   \n",
       "4         NaN   85452.229299   1929.681529    261.859873    -28.229299   \n",
       "\n",
       "  Unnamed: 26  Cs-137 err  Am-241 err  Pb-210 err  Pr-214 err  \n",
       "0         NaN         NaN         NaN         NaN         NaN  \n",
       "1         NaN     3120.73       55.12    0.056430    0.013386  \n",
       "2         NaN     3582.63       77.33    0.091631    0.024407  \n",
       "3         NaN     3150.50       76.92    0.044482    0.012074  \n",
       "4         NaN     3381.13       87.92    0.064491    0.019358  \n",
       "\n",
       "[5 rows x 31 columns]"
      ]
     },
     "execution_count": 13,
     "metadata": {},
     "output_type": "execute_result"
    }
   ],
   "source": [
    "#donnye = pd.read_csv('../../2019/2019_06_03_Perstok_donnye1-5-1.csv', sep=';', decimal=',')\n",
    "donnye = pd.read_csv('../../2019/2019_07_01_Perstok_donnye1-5-1.csv', sep=';', decimal=',')\n",
    "donnye.head()"
   ]
  },
  {
   "cell_type": "code",
   "execution_count": 14,
   "metadata": {
    "scrolled": true
   },
   "outputs": [
    {
     "ename": "KeyError",
     "evalue": "'Cs-137 Бк/кг'",
     "output_type": "error",
     "traceback": [
      "\u001b[0;31m---------------------------------------------------------------------------\u001b[0m",
      "\u001b[0;31mKeyError\u001b[0m                                  Traceback (most recent call last)",
      "\u001b[0;32m~/anaconda3/lib/python3.7/site-packages/pandas/core/indexes/base.py\u001b[0m in \u001b[0;36mget_loc\u001b[0;34m(self, key, method, tolerance)\u001b[0m\n\u001b[1;32m   2656\u001b[0m             \u001b[0;32mtry\u001b[0m\u001b[0;34m:\u001b[0m\u001b[0;34m\u001b[0m\u001b[0;34m\u001b[0m\u001b[0m\n\u001b[0;32m-> 2657\u001b[0;31m                 \u001b[0;32mreturn\u001b[0m \u001b[0mself\u001b[0m\u001b[0;34m.\u001b[0m\u001b[0m_engine\u001b[0m\u001b[0;34m.\u001b[0m\u001b[0mget_loc\u001b[0m\u001b[0;34m(\u001b[0m\u001b[0mkey\u001b[0m\u001b[0;34m)\u001b[0m\u001b[0;34m\u001b[0m\u001b[0;34m\u001b[0m\u001b[0m\n\u001b[0m\u001b[1;32m   2658\u001b[0m             \u001b[0;32mexcept\u001b[0m \u001b[0mKeyError\u001b[0m\u001b[0;34m:\u001b[0m\u001b[0;34m\u001b[0m\u001b[0;34m\u001b[0m\u001b[0m\n",
      "\u001b[0;32mpandas/_libs/index.pyx\u001b[0m in \u001b[0;36mpandas._libs.index.IndexEngine.get_loc\u001b[0;34m()\u001b[0m\n",
      "\u001b[0;32mpandas/_libs/index.pyx\u001b[0m in \u001b[0;36mpandas._libs.index.IndexEngine.get_loc\u001b[0;34m()\u001b[0m\n",
      "\u001b[0;32mpandas/_libs/hashtable_class_helper.pxi\u001b[0m in \u001b[0;36mpandas._libs.hashtable.PyObjectHashTable.get_item\u001b[0;34m()\u001b[0m\n",
      "\u001b[0;32mpandas/_libs/hashtable_class_helper.pxi\u001b[0m in \u001b[0;36mpandas._libs.hashtable.PyObjectHashTable.get_item\u001b[0;34m()\u001b[0m\n",
      "\u001b[0;31mKeyError\u001b[0m: 'Cs-137 Бк/кг'",
      "\nDuring handling of the above exception, another exception occurred:\n",
      "\u001b[0;31mKeyError\u001b[0m                                  Traceback (most recent call last)",
      "\u001b[0;32m<ipython-input-14-2fd4f60ef387>\u001b[0m in \u001b[0;36m<module>\u001b[0;34m\u001b[0m\n\u001b[1;32m      1\u001b[0m \u001b[0mplt\u001b[0m\u001b[0;34m.\u001b[0m\u001b[0mfigure\u001b[0m\u001b[0;34m(\u001b[0m\u001b[0mfigsize\u001b[0m\u001b[0;34m=\u001b[0m\u001b[0;34m(\u001b[0m\u001b[0;36m8\u001b[0m\u001b[0;34m,\u001b[0m\u001b[0;36m8\u001b[0m\u001b[0;34m)\u001b[0m\u001b[0;34m)\u001b[0m\u001b[0;34m\u001b[0m\u001b[0;34m\u001b[0m\u001b[0m\n\u001b[0;32m----> 2\u001b[0;31m \u001b[0msns\u001b[0m\u001b[0;34m.\u001b[0m\u001b[0mbarplot\u001b[0m\u001b[0;34m(\u001b[0m\u001b[0mx\u001b[0m\u001b[0;34m=\u001b[0m\u001b[0mdonnye\u001b[0m\u001b[0;34m[\u001b[0m\u001b[0;34m'Cs-137 Бк/кг'\u001b[0m\u001b[0;34m]\u001b[0m\u001b[0;34m,\u001b[0m \u001b[0my\u001b[0m\u001b[0;34m=\u001b[0m\u001b[0mdonnye\u001b[0m\u001b[0;34m[\u001b[0m\u001b[0;34m'Layer'\u001b[0m\u001b[0;34m]\u001b[0m\u001b[0;34m,\u001b[0m \u001b[0mxerr\u001b[0m\u001b[0;34m=\u001b[0m\u001b[0mdonnye\u001b[0m\u001b[0;34m[\u001b[0m\u001b[0;34m'Cs-137 err'\u001b[0m\u001b[0;34m]\u001b[0m\u001b[0;34m,\u001b[0m \u001b[0mcolor\u001b[0m\u001b[0;34m=\u001b[0m\u001b[0;34m'b'\u001b[0m\u001b[0;34m)\u001b[0m\u001b[0;34m\u001b[0m\u001b[0;34m\u001b[0m\u001b[0m\n\u001b[0m\u001b[1;32m      3\u001b[0m \u001b[0mplt\u001b[0m\u001b[0;34m.\u001b[0m\u001b[0mxlabel\u001b[0m\u001b[0;34m(\u001b[0m\u001b[0;34m'Удельная активность $^{137}Cs$, Бк/кг'\u001b[0m\u001b[0;34m)\u001b[0m\u001b[0;34m\u001b[0m\u001b[0;34m\u001b[0m\u001b[0m\n\u001b[1;32m      4\u001b[0m \u001b[0mplt\u001b[0m\u001b[0;34m.\u001b[0m\u001b[0mylabel\u001b[0m\u001b[0;34m(\u001b[0m\u001b[0;34m'Слой, см'\u001b[0m\u001b[0;34m)\u001b[0m\u001b[0;34m\u001b[0m\u001b[0;34m\u001b[0m\u001b[0m\n\u001b[1;32m      5\u001b[0m \u001b[0mplt\u001b[0m\u001b[0;34m.\u001b[0m\u001b[0mshow\u001b[0m\u001b[0;34m(\u001b[0m\u001b[0;34m)\u001b[0m\u001b[0;34m\u001b[0m\u001b[0;34m\u001b[0m\u001b[0m\n",
      "\u001b[0;32m~/anaconda3/lib/python3.7/site-packages/pandas/core/frame.py\u001b[0m in \u001b[0;36m__getitem__\u001b[0;34m(self, key)\u001b[0m\n\u001b[1;32m   2925\u001b[0m             \u001b[0;32mif\u001b[0m \u001b[0mself\u001b[0m\u001b[0;34m.\u001b[0m\u001b[0mcolumns\u001b[0m\u001b[0;34m.\u001b[0m\u001b[0mnlevels\u001b[0m \u001b[0;34m>\u001b[0m \u001b[0;36m1\u001b[0m\u001b[0;34m:\u001b[0m\u001b[0;34m\u001b[0m\u001b[0;34m\u001b[0m\u001b[0m\n\u001b[1;32m   2926\u001b[0m                 \u001b[0;32mreturn\u001b[0m \u001b[0mself\u001b[0m\u001b[0;34m.\u001b[0m\u001b[0m_getitem_multilevel\u001b[0m\u001b[0;34m(\u001b[0m\u001b[0mkey\u001b[0m\u001b[0;34m)\u001b[0m\u001b[0;34m\u001b[0m\u001b[0;34m\u001b[0m\u001b[0m\n\u001b[0;32m-> 2927\u001b[0;31m             \u001b[0mindexer\u001b[0m \u001b[0;34m=\u001b[0m \u001b[0mself\u001b[0m\u001b[0;34m.\u001b[0m\u001b[0mcolumns\u001b[0m\u001b[0;34m.\u001b[0m\u001b[0mget_loc\u001b[0m\u001b[0;34m(\u001b[0m\u001b[0mkey\u001b[0m\u001b[0;34m)\u001b[0m\u001b[0;34m\u001b[0m\u001b[0;34m\u001b[0m\u001b[0m\n\u001b[0m\u001b[1;32m   2928\u001b[0m             \u001b[0;32mif\u001b[0m \u001b[0mis_integer\u001b[0m\u001b[0;34m(\u001b[0m\u001b[0mindexer\u001b[0m\u001b[0;34m)\u001b[0m\u001b[0;34m:\u001b[0m\u001b[0;34m\u001b[0m\u001b[0;34m\u001b[0m\u001b[0m\n\u001b[1;32m   2929\u001b[0m                 \u001b[0mindexer\u001b[0m \u001b[0;34m=\u001b[0m \u001b[0;34m[\u001b[0m\u001b[0mindexer\u001b[0m\u001b[0;34m]\u001b[0m\u001b[0;34m\u001b[0m\u001b[0;34m\u001b[0m\u001b[0m\n",
      "\u001b[0;32m~/anaconda3/lib/python3.7/site-packages/pandas/core/indexes/base.py\u001b[0m in \u001b[0;36mget_loc\u001b[0;34m(self, key, method, tolerance)\u001b[0m\n\u001b[1;32m   2657\u001b[0m                 \u001b[0;32mreturn\u001b[0m \u001b[0mself\u001b[0m\u001b[0;34m.\u001b[0m\u001b[0m_engine\u001b[0m\u001b[0;34m.\u001b[0m\u001b[0mget_loc\u001b[0m\u001b[0;34m(\u001b[0m\u001b[0mkey\u001b[0m\u001b[0;34m)\u001b[0m\u001b[0;34m\u001b[0m\u001b[0;34m\u001b[0m\u001b[0m\n\u001b[1;32m   2658\u001b[0m             \u001b[0;32mexcept\u001b[0m \u001b[0mKeyError\u001b[0m\u001b[0;34m:\u001b[0m\u001b[0;34m\u001b[0m\u001b[0;34m\u001b[0m\u001b[0m\n\u001b[0;32m-> 2659\u001b[0;31m                 \u001b[0;32mreturn\u001b[0m \u001b[0mself\u001b[0m\u001b[0;34m.\u001b[0m\u001b[0m_engine\u001b[0m\u001b[0;34m.\u001b[0m\u001b[0mget_loc\u001b[0m\u001b[0;34m(\u001b[0m\u001b[0mself\u001b[0m\u001b[0;34m.\u001b[0m\u001b[0m_maybe_cast_indexer\u001b[0m\u001b[0;34m(\u001b[0m\u001b[0mkey\u001b[0m\u001b[0;34m)\u001b[0m\u001b[0;34m)\u001b[0m\u001b[0;34m\u001b[0m\u001b[0;34m\u001b[0m\u001b[0m\n\u001b[0m\u001b[1;32m   2660\u001b[0m         \u001b[0mindexer\u001b[0m \u001b[0;34m=\u001b[0m \u001b[0mself\u001b[0m\u001b[0;34m.\u001b[0m\u001b[0mget_indexer\u001b[0m\u001b[0;34m(\u001b[0m\u001b[0;34m[\u001b[0m\u001b[0mkey\u001b[0m\u001b[0;34m]\u001b[0m\u001b[0;34m,\u001b[0m \u001b[0mmethod\u001b[0m\u001b[0;34m=\u001b[0m\u001b[0mmethod\u001b[0m\u001b[0;34m,\u001b[0m \u001b[0mtolerance\u001b[0m\u001b[0;34m=\u001b[0m\u001b[0mtolerance\u001b[0m\u001b[0;34m)\u001b[0m\u001b[0;34m\u001b[0m\u001b[0;34m\u001b[0m\u001b[0m\n\u001b[1;32m   2661\u001b[0m         \u001b[0;32mif\u001b[0m \u001b[0mindexer\u001b[0m\u001b[0;34m.\u001b[0m\u001b[0mndim\u001b[0m \u001b[0;34m>\u001b[0m \u001b[0;36m1\u001b[0m \u001b[0;32mor\u001b[0m \u001b[0mindexer\u001b[0m\u001b[0;34m.\u001b[0m\u001b[0msize\u001b[0m \u001b[0;34m>\u001b[0m \u001b[0;36m1\u001b[0m\u001b[0;34m:\u001b[0m\u001b[0;34m\u001b[0m\u001b[0;34m\u001b[0m\u001b[0m\n",
      "\u001b[0;32mpandas/_libs/index.pyx\u001b[0m in \u001b[0;36mpandas._libs.index.IndexEngine.get_loc\u001b[0;34m()\u001b[0m\n",
      "\u001b[0;32mpandas/_libs/index.pyx\u001b[0m in \u001b[0;36mpandas._libs.index.IndexEngine.get_loc\u001b[0;34m()\u001b[0m\n",
      "\u001b[0;32mpandas/_libs/hashtable_class_helper.pxi\u001b[0m in \u001b[0;36mpandas._libs.hashtable.PyObjectHashTable.get_item\u001b[0;34m()\u001b[0m\n",
      "\u001b[0;32mpandas/_libs/hashtable_class_helper.pxi\u001b[0m in \u001b[0;36mpandas._libs.hashtable.PyObjectHashTable.get_item\u001b[0;34m()\u001b[0m\n",
      "\u001b[0;31mKeyError\u001b[0m: 'Cs-137 Бк/кг'"
     ]
    },
    {
     "data": {
      "text/plain": [
       "<Figure size 576x576 with 0 Axes>"
      ]
     },
     "metadata": {},
     "output_type": "display_data"
    }
   ],
   "source": [
    "plt.figure(figsize=(8,8))\n",
    "sns.barplot(x=donnye['Cs-137 Бк/кг'], y=donnye['Layer'], xerr=donnye['Cs-137 err'], color='b')\n",
    "plt.xlabel('Удельная активность $^{137}Cs$, Бк/кг')\n",
    "plt.ylabel('Слой, см')\n",
    "plt.show()"
   ]
  },
  {
   "cell_type": "code",
   "execution_count": 15,
   "metadata": {
    "scrolled": true
   },
   "outputs": [
    {
     "data": {
      "text/plain": [
       "Text(0, 0.5, 'Слой, см')"
      ]
     },
     "execution_count": 15,
     "metadata": {},
     "output_type": "execute_result"
    },
    {
     "data": {
      "image/png": "[encoded data removed]",
      "text/plain": [
       "<Figure size 576x576 with 1 Axes>"
      ]
     },
     "metadata": {
      "needs_background": "light"
     },
     "output_type": "display_data"
    }
   ],
   "source": [
    "plt.figure(figsize=(8,8))\n",
    "sns.barplot(x=donnye['Am-241 Бк/кг'], y=donnye['Layer'], xerr=donnye['Am-241 err'], color='r')\n",
    "plt.xlabel('Удельная активность $^{241}Am$, Бк/кг')\n",
    "plt.ylabel('Слой, см')"
   ]
  },
  {
   "cell_type": "code",
   "execution_count": 16,
   "metadata": {
    "scrolled": true
   },
   "outputs": [
    {
     "data": {
      "text/plain": [
       "Text(0, 0.5, 'Слой, см')"
      ]
     },
     "execution_count": 16,
     "metadata": {},
     "output_type": "execute_result"
    },
    {
     "data": {
      "image/png": "[encoded data removed]",
      "text/plain": [
       "<Figure size 576x576 with 1 Axes>"
      ]
     },
     "metadata": {
      "needs_background": "light"
     },
     "output_type": "display_data"
    }
   ],
   "source": [
    "plt.figure(figsize=(8,8))\n",
    "sns.barplot(x=donnye['Cs-137 Бк/м2'], y=donnye['Layer'], color='b')\n",
    "plt.xlabel('Плотность загрязнения $^{137}Cs, Бк/м^{2}$')\n",
    "plt.ylabel('Слой, см')"
   ]
  },
  {
   "cell_type": "code",
   "execution_count": 17,
   "metadata": {
    "scrolled": true
   },
   "outputs": [
    {
     "data": {
      "text/plain": [
       "Text(0, 0.5, 'Слой, см')"
      ]
     },
     "execution_count": 17,
     "metadata": {},
     "output_type": "execute_result"
    },
    {
     "data": {
      "image/png": "[encoded data removed]",
      "text/plain": [
       "<Figure size 576x576 with 1 Axes>"
      ]
     },
     "metadata": {
      "needs_background": "light"
     },
     "output_type": "display_data"
    }
   ],
   "source": [
    "plt.figure(figsize=(8,8))\n",
    "sns.barplot(x=donnye['Am-241 Бк/м2'], y=donnye['Layer'], color='r')\n",
    "plt.xlabel('Плотность загрязнения $^{241}Am, Бк/м^{2}$')\n",
    "plt.ylabel('Слой, см')"
   ]
  },
  {
   "cell_type": "code",
   "execution_count": 18,
   "metadata": {},
   "outputs": [
    {
     "data": {
      "text/plain": [
       "0.36160714285714285"
      ]
     },
     "execution_count": 18,
     "metadata": {},
     "output_type": "execute_result"
    }
   ],
   "source": [
    "def deposition_rate(pb210_top, pb214_top, pb210_bot, pb214_bot, depth_top, depth_bot):\n",
    "    T_05 = 22.3 # year, Half-time\n",
    "    pb210_top_true = pb210_top - pb214_top\n",
    "    pb210_bot_true = pb210_bot - pb214_bot\n",
    "    depth = depth_bot - depth_top\n",
    "    pb210_diff = pb210_top_true - pb210_bot_true\n",
    "    age_diff = (T_05 * pb210_diff) / (0.69 * pb210_top_true)\n",
    "    dep_rate = depth / age_diff\n",
    "    return dep_rate\n",
    "\n",
    "deposition_rate(0.2007, 0.0063, 0.0304, 0.0008, (3+1.5)/2, (27+28.5)/2)\n",
    "((19.5+21)/2)/(2019-1963)\n"
   ]
  },
  {
   "cell_type": "code",
   "execution_count": null,
   "metadata": {},
   "outputs": [],
   "source": []
  }
 ],
 "metadata": {
  "kernelspec": {
   "display_name": "Python 3",
   "language": "python",
   "name": "python3"
  },
  "language_info": {
   "codemirror_mode": {
    "name": "ipython",
    "version": 3
   },
   "file_extension": ".py",
   "mimetype": "text/x-python",
   "name": "python",
   "nbconvert_exporter": "python",
   "pygments_lexer": "ipython3",
   "version": "3.7.3"
  }
 },
 "nbformat": 4,
 "nbformat_minor": 2
}
